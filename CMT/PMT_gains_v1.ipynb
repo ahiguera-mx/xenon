{
 "cells": [
  {
   "cell_type": "code",
   "execution_count": 25,
   "metadata": {},
   "outputs": [],
   "source": [
    "import strax\n",
    "import straxen\n",
    "st_online = straxen.contexts.xenonnt_online()"
   ]
  },
  {
   "cell_type": "markdown",
   "metadata": {},
   "source": [
    "## Look at what has being used in xenonnt_online"
   ]
  },
  {
   "cell_type": "code",
   "execution_count": 11,
   "metadata": {},
   "outputs": [
    {
     "data": {
      "text/plain": [
       "{'n_tpc_pmts': 494,\n",
       " 'n_top_pmts': 253,\n",
       " 'gain_model': ('to_pe_constant', '1300V_20200428'),\n",
       " 'channel_map': immutabledict({'tpc': (0, 493), 'he': (500, 752), 'aqmon': (790, 807), 'tpc_blank': (999, 999), 'mv': (1000, 1083), 'mv_blank': (1999, 1999)})}"
      ]
     },
     "execution_count": 11,
     "metadata": {},
     "output_type": "execute_result"
    }
   ],
   "source": [
    "st_online.config"
   ]
  },
  {
   "cell_type": "markdown",
   "metadata": {},
   "source": [
    "## Modify the gain model using the type option 'to_pe_constant'"
   ]
  },
  {
   "cell_type": "code",
   "execution_count": 12,
   "metadata": {},
   "outputs": [],
   "source": [
    "st_online.set_config(dict(gain_model=('to_pe_constant',0.001)))\n"
   ]
  },
  {
   "cell_type": "code",
   "execution_count": 13,
   "metadata": {},
   "outputs": [
    {
     "data": {
      "text/plain": [
       "{'n_tpc_pmts': 494,\n",
       " 'n_top_pmts': 253,\n",
       " 'gain_model': ('to_pe_constant', 0.001),\n",
       " 'channel_map': immutabledict({'tpc': (0, 493), 'he': (500, 752), 'aqmon': (790, 807), 'tpc_blank': (999, 999), 'mv': (1000, 1083), 'mv_blank': (1999, 1999)})}"
      ]
     },
     "execution_count": 13,
     "metadata": {},
     "output_type": "execute_result"
    }
   ],
   "source": [
    "st_online.config"
   ]
  },
  {
   "cell_type": "markdown",
   "metadata": {},
   "source": [
    "## Modify the gain model creating a new context"
   ]
  },
  {
   "cell_type": "code",
   "execution_count": 19,
   "metadata": {},
   "outputs": [
    {
     "data": {
      "text/plain": [
       "{'n_tpc_pmts': 494,\n",
       " 'n_top_pmts': 253,\n",
       " 'gain_model': ('to_pe_constant', 0.002),\n",
       " 'channel_map': immutabledict({'tpc': (0, 493), 'he': (500, 752), 'aqmon': (790, 807), 'tpc_blank': (999, 999), 'mv': (1000, 1083), 'mv_blank': (1999, 1999)})}"
      ]
     },
     "execution_count": 19,
     "metadata": {},
     "output_type": "execute_result"
    }
   ],
   "source": [
    "st_online2 = st_online.new_context(config=dict(gain_model=('to_pe_constant',0.002)))\n",
    "st_online2.config"
   ]
  },
  {
   "cell_type": "markdown",
   "metadata": {},
   "source": [
    "## Calculate peaks using this gain model ('to_pe_constant', 0.001)"
   ]
  },
  {
   "cell_type": "code",
   "execution_count": 15,
   "metadata": {},
   "outputs": [
    {
     "name": "stdout",
     "output_type": "stream",
     "text": [
      "Removing old incomplete data in ./strax_data/007695-lone_hits-edyksmugi5\n",
      "Removing old incomplete data in ./strax_data/007695-peaklets-edyksmugi5\n"
     ]
    }
   ],
   "source": [
    "peaks =st_online.get_array('007695','peaklets') "
   ]
  },
  {
   "cell_type": "code",
   "execution_count": 16,
   "metadata": {},
   "outputs": [
    {
     "data": {
      "text/plain": [
       "[<matplotlib.lines.Line2D at 0x7fad8c072400>]"
      ]
     },
     "execution_count": 16,
     "metadata": {},
     "output_type": "execute_result"
    },
    {
     "data": {
      "image/png": "[encoded data removed]",
      "text/plain": [
       "<Figure size 432x288 with 1 Axes>"
      ]
     },
     "metadata": {
      "needs_background": "light"
     },
     "output_type": "display_data"
    }
   ],
   "source": [
    "import matplotlib.pyplot as plt\n",
    "plt.plot(peaks['data'][2],'k')"
   ]
  },
  {
   "cell_type": "markdown",
   "metadata": {},
   "source": [
    "## Compare the same peak with new gain model (it should be the double when plotting data)"
   ]
  },
  {
   "cell_type": "code",
   "execution_count": 20,
   "metadata": {},
   "outputs": [],
   "source": [
    "peaks_v2=st_online2.get_array('007695','peaklets')"
   ]
  },
  {
   "cell_type": "code",
   "execution_count": 21,
   "metadata": {},
   "outputs": [
    {
     "data": {
      "text/plain": [
       "[<matplotlib.lines.Line2D at 0x7fad757c37b8>]"
      ]
     },
     "execution_count": 21,
     "metadata": {},
     "output_type": "execute_result"
    },
    {
     "data": {
      "image/png": "[encoded data removed]",
      "text/plain": [
       "<Figure size 432x288 with 1 Axes>"
      ]
     },
     "metadata": {
      "needs_background": "light"
     },
     "output_type": "display_data"
    }
   ],
   "source": [
    "plt.plot(peaks_v2['data'][2],'k')"
   ]
  },
  {
   "cell_type": "markdown",
   "metadata": {},
   "source": [
    "## We can print out what gains values the plugin is using \n",
    "* the gains were included by $: st_online2 = st_online.new_context(config=dict(gain_model=('to_pe_constant',0.002))) "
   ]
  },
  {
   "cell_type": "code",
   "execution_count": 23,
   "metadata": {},
   "outputs": [
    {
     "name": "stdout",
     "output_type": "stream",
     "text": [
      "[0.002 0.002 0.002 0.002 0.002 0.002 0.002 0.002 0.002 0.002 0.002 0.002\n",
      " 0.002 0.002 0.002 0.002 0.002 0.002 0.002 0.002 0.002 0.002 0.002 0.002\n",
      " 0.002 0.002 0.002 0.002 0.002 0.002 0.002 0.002 0.002 0.002 0.002 0.002\n",
      " 0.002 0.002 0.002 0.002 0.002 0.002 0.002 0.002 0.002 0.002 0.002 0.002\n",
      " 0.002 0.002 0.002 0.002 0.002 0.002 0.002 0.002 0.002 0.002 0.002 0.002\n",
      " 0.002 0.002 0.002 0.002 0.002 0.002 0.002 0.002 0.002 0.002 0.002 0.002\n",
      " 0.002 0.002 0.002 0.002 0.002 0.002 0.002 0.002 0.002 0.002 0.002 0.002\n",
      " 0.002 0.002 0.002 0.002 0.002 0.002 0.002 0.002 0.002 0.002 0.002 0.002\n",
      " 0.002 0.002 0.002 0.002 0.002 0.002 0.002 0.002 0.002 0.002 0.002 0.002\n",
      " 0.002 0.002 0.002 0.002 0.002 0.002 0.002 0.002 0.002 0.002 0.002 0.002\n",
      " 0.002 0.002 0.002 0.002 0.002 0.002 0.002 0.002 0.002 0.002 0.002 0.002\n",
      " 0.002 0.002 0.002 0.002 0.002 0.002 0.002 0.002 0.002 0.002 0.002 0.002\n",
      " 0.002 0.002 0.002 0.002 0.002 0.002 0.002 0.002 0.002 0.002 0.002 0.002\n",
      " 0.002 0.002 0.002 0.002 0.002 0.002 0.002 0.002 0.002 0.002 0.002 0.002\n",
      " 0.002 0.002 0.002 0.002 0.002 0.002 0.002 0.002 0.002 0.002 0.002 0.002\n",
      " 0.002 0.002 0.002 0.002 0.002 0.002 0.002 0.002 0.002 0.002 0.002 0.002\n",
      " 0.002 0.002 0.002 0.002 0.002 0.002 0.002 0.002 0.002 0.002 0.002 0.002\n",
      " 0.002 0.002 0.002 0.002 0.002 0.002 0.002 0.002 0.002 0.002 0.002 0.002\n",
      " 0.002 0.002 0.002 0.002 0.002 0.002 0.002 0.002 0.002 0.002 0.002 0.002\n",
      " 0.002 0.002 0.002 0.002 0.002 0.002 0.002 0.002 0.002 0.002 0.002 0.002\n",
      " 0.002 0.002 0.002 0.002 0.002 0.002 0.002 0.002 0.002 0.002 0.002 0.002\n",
      " 0.002 0.002 0.002 0.002 0.002 0.002 0.002 0.002 0.002 0.002 0.002 0.002\n",
      " 0.002 0.002 0.002 0.002 0.002 0.002 0.002 0.002 0.002 0.002 0.002 0.002\n",
      " 0.002 0.002 0.002 0.002 0.002 0.002 0.002 0.002 0.002 0.002 0.002 0.002\n",
      " 0.002 0.002 0.002 0.002 0.002 0.002 0.002 0.002 0.002 0.002 0.002 0.002\n",
      " 0.002 0.002 0.002 0.002 0.002 0.002 0.002 0.002 0.002 0.002 0.002 0.002\n",
      " 0.002 0.002 0.002 0.002 0.002 0.002 0.002 0.002 0.002 0.002 0.002 0.002\n",
      " 0.002 0.002 0.002 0.002 0.002 0.002 0.002 0.002 0.002 0.002 0.002 0.002\n",
      " 0.002 0.002 0.002 0.002 0.002 0.002 0.002 0.002 0.002 0.002 0.002 0.002\n",
      " 0.002 0.002 0.002 0.002 0.002 0.002 0.002 0.002 0.002 0.002 0.002 0.002\n",
      " 0.002 0.002 0.002 0.002 0.002 0.002 0.002 0.002 0.002 0.002 0.002 0.002\n",
      " 0.002 0.002 0.002 0.002 0.002 0.002 0.002 0.002 0.002 0.002 0.002 0.002\n",
      " 0.002 0.002 0.002 0.002 0.002 0.002 0.002 0.002 0.002 0.002 0.002 0.002\n",
      " 0.002 0.002 0.002 0.002 0.002 0.002 0.002 0.002 0.002 0.002 0.002 0.002\n",
      " 0.002 0.002 0.002 0.002 0.002 0.002 0.002 0.002 0.002 0.002 0.002 0.002\n",
      " 0.002 0.002 0.002 0.002 0.002 0.002 0.002 0.002 0.002 0.002 0.002 0.002\n",
      " 0.002 0.002 0.002 0.002 0.002 0.002 0.002 0.002 0.002 0.002 0.002 0.002\n",
      " 0.002 0.002 0.002 0.002 0.002 0.002 0.002 0.002 0.002 0.002 0.002 0.002\n",
      " 0.002 0.002 0.002 0.002 0.002 0.002 0.002 0.002 0.002 0.002 0.002 0.002\n",
      " 0.002 0.002 0.002 0.002 0.002 0.002 0.002 0.002 0.002 0.002 0.002 0.002\n",
      " 0.002 0.002 0.002 0.002 0.002 0.002 0.002 0.002 0.002 0.002 0.002 0.002\n",
      " 0.002 0.002]\n"
     ]
    }
   ],
   "source": [
    "my_gains = st_online2.get_single_plugin('007695', 'peaklets').to_pe\n",
    "print(my_gains)"
   ]
  },
  {
   "cell_type": "markdown",
   "metadata": {},
   "source": [
    "## Look at XENONnT context"
   ]
  },
  {
   "cell_type": "code",
   "execution_count": 26,
   "metadata": {},
   "outputs": [],
   "source": [
    "import straxen \n",
    "st_1t = straxen.contexts.xenon1t_dali()"
   ]
  },
  {
   "cell_type": "code",
   "execution_count": 27,
   "metadata": {},
   "outputs": [
    {
     "data": {
      "text/plain": [
       "{'check_raw_record_overlaps': False,\n",
       " 'allow_sloppy_chunking': True,\n",
       " 'n_tpc_pmts': 248,\n",
       " 'n_top_pmts': 127,\n",
       " 'channel_map': immutabledict({'tpc': (0, 247), 'diagnostic': (248, 253), 'aqmon': (254, 999)}),\n",
       " 'hev_gain_model': ('to_pe_per_run',\n",
       "  'https://raw.githubusercontent.com/XENONnT/strax_auxiliary_files/master/to_pe.npy'),\n",
       " 'gain_model': ('to_pe_per_run',\n",
       "  'https://raw.githubusercontent.com/XENONnT/strax_auxiliary_files/master/to_pe.npy'),\n",
       " 'pmt_pulse_filter': (0.012,\n",
       "  -0.119,\n",
       "  2.435,\n",
       "  -1.271,\n",
       "  0.357,\n",
       "  -0.174,\n",
       "  -0.0,\n",
       "  -0.036,\n",
       "  -0.028,\n",
       "  -0.019,\n",
       "  -0.025,\n",
       "  -0.013,\n",
       "  -0.03,\n",
       "  -0.039,\n",
       "  -0.005,\n",
       "  -0.019,\n",
       "  -0.012,\n",
       "  -0.015,\n",
       "  -0.029,\n",
       "  0.024,\n",
       "  -0.007,\n",
       "  0.007,\n",
       "  -0.001,\n",
       "  0.005,\n",
       "  -0.002,\n",
       "  0.004,\n",
       "  -0.002),\n",
       " 'tail_veto_threshold': 100000,\n",
       " 'peak_right_extension': 30,\n",
       " 'peak_min_pmts': 2,\n",
       " 'save_outside_hits': (3, 3),\n",
       " 'hit_min_amplitude': 'XENON1T_SR1'}"
      ]
     },
     "execution_count": 27,
     "metadata": {},
     "output_type": "execute_result"
    }
   ],
   "source": [
    "st_1t.config\n"
   ]
  },
  {
   "cell_type": "code",
   "execution_count": 30,
   "metadata": {},
   "outputs": [
    {
     "data": {
      "text/html": [
       "<div>\n",
       "<style scoped>\n",
       "    .dataframe tbody tr th:only-of-type {\n",
       "        vertical-align: middle;\n",
       "    }\n",
       "\n",
       "    .dataframe tbody tr th {\n",
       "        vertical-align: top;\n",
       "    }\n",
       "\n",
       "    .dataframe thead th {\n",
       "        text-align: right;\n",
       "    }\n",
       "</style>\n",
       "<table border=\"1\" class=\"dataframe\">\n",
       "  <thead>\n",
       "    <tr style=\"text-align: right;\">\n",
       "      <th></th>\n",
       "      <th>option</th>\n",
       "      <th>default</th>\n",
       "      <th>current</th>\n",
       "      <th>applies_to</th>\n",
       "      <th>help</th>\n",
       "    </tr>\n",
       "  </thead>\n",
       "  <tbody>\n",
       "    <tr>\n",
       "      <th>0</th>\n",
       "      <td>hev_gain_model</td>\n",
       "      <td>(disabled, None)</td>\n",
       "      <td>(to_pe_per_run, https://raw.githubusercontent....</td>\n",
       "      <td>(records, veto_regions, pulse_counts)</td>\n",
       "      <td>PMT gain model used in the software high-energ...</td>\n",
       "    </tr>\n",
       "    <tr>\n",
       "      <th>1</th>\n",
       "      <td>baseline_samples</td>\n",
       "      <td>40</td>\n",
       "      <td>&lt;OMITTED&gt;</td>\n",
       "      <td>(records, veto_regions, pulse_counts)</td>\n",
       "      <td>Number of samples to use at the start of the p...</td>\n",
       "    </tr>\n",
       "    <tr>\n",
       "      <th>2</th>\n",
       "      <td>tail_veto_threshold</td>\n",
       "      <td>0</td>\n",
       "      <td>100000</td>\n",
       "      <td>(records, veto_regions, pulse_counts)</td>\n",
       "      <td>Minimum peakarea in PE to trigger tail veto.Se...</td>\n",
       "    </tr>\n",
       "    <tr>\n",
       "      <th>3</th>\n",
       "      <td>tail_veto_duration</td>\n",
       "      <td>3000000</td>\n",
       "      <td>&lt;OMITTED&gt;</td>\n",
       "      <td>(records, veto_regions, pulse_counts)</td>\n",
       "      <td>Time in ns to veto after large peaks</td>\n",
       "    </tr>\n",
       "    <tr>\n",
       "      <th>4</th>\n",
       "      <td>tail_veto_resolution</td>\n",
       "      <td>1000</td>\n",
       "      <td>&lt;OMITTED&gt;</td>\n",
       "      <td>(records, veto_regions, pulse_counts)</td>\n",
       "      <td>Time resolution in ns for pass-veto waveform s...</td>\n",
       "    </tr>\n",
       "    <tr>\n",
       "      <th>5</th>\n",
       "      <td>tail_veto_pass_fraction</td>\n",
       "      <td>0.05</td>\n",
       "      <td>&lt;OMITTED&gt;</td>\n",
       "      <td>(records, veto_regions, pulse_counts)</td>\n",
       "      <td>Pass veto if maximum amplitude above max * fra...</td>\n",
       "    </tr>\n",
       "    <tr>\n",
       "      <th>6</th>\n",
       "      <td>tail_veto_pass_extend</td>\n",
       "      <td>3</td>\n",
       "      <td>&lt;OMITTED&gt;</td>\n",
       "      <td>(records, veto_regions, pulse_counts)</td>\n",
       "      <td>Extend pass veto by this many samples (tail_ve...</td>\n",
       "    </tr>\n",
       "    <tr>\n",
       "      <th>7</th>\n",
       "      <td>pmt_pulse_filter</td>\n",
       "      <td>None</td>\n",
       "      <td>(0.012, -0.119, 2.435, -1.271, 0.357, -0.174, ...</td>\n",
       "      <td>(records, veto_regions, pulse_counts)</td>\n",
       "      <td>Linear filter to apply to pulses, will be norm...</td>\n",
       "    </tr>\n",
       "    <tr>\n",
       "      <th>8</th>\n",
       "      <td>save_outside_hits</td>\n",
       "      <td>(3, 20)</td>\n",
       "      <td>(3, 3)</td>\n",
       "      <td>(records, veto_regions, pulse_counts)</td>\n",
       "      <td>Save (left, right) samples besides hits; cut t...</td>\n",
       "    </tr>\n",
       "    <tr>\n",
       "      <th>9</th>\n",
       "      <td>n_tpc_pmts</td>\n",
       "      <td>&lt;OMITTED&gt;</td>\n",
       "      <td>248</td>\n",
       "      <td>(records, veto_regions, pulse_counts)</td>\n",
       "      <td>Number of TPC PMTs</td>\n",
       "    </tr>\n",
       "    <tr>\n",
       "      <th>10</th>\n",
       "      <td>check_raw_record_overlaps</td>\n",
       "      <td>True</td>\n",
       "      <td>False</td>\n",
       "      <td>(records, veto_regions, pulse_counts)</td>\n",
       "      <td>Crash if any of the pulses in raw_records over...</td>\n",
       "    </tr>\n",
       "    <tr>\n",
       "      <th>11</th>\n",
       "      <td>allow_sloppy_chunking</td>\n",
       "      <td>False</td>\n",
       "      <td>True</td>\n",
       "      <td>(records, veto_regions, pulse_counts)</td>\n",
       "      <td>Use a default baseline for incorrectly chunked...</td>\n",
       "    </tr>\n",
       "    <tr>\n",
       "      <th>12</th>\n",
       "      <td>hit_min_amplitude</td>\n",
       "      <td>pmt_commissioning_initial</td>\n",
       "      <td>XENON1T_SR1</td>\n",
       "      <td>(records, veto_regions, pulse_counts)</td>\n",
       "      <td>Minimum hit amplitude in ADC counts above base...</td>\n",
       "    </tr>\n",
       "    <tr>\n",
       "      <th>13</th>\n",
       "      <td>pax_raw_dir</td>\n",
       "      <td>/data/xenon/raw</td>\n",
       "      <td>&lt;OMITTED&gt;</td>\n",
       "      <td>(raw_records,)</td>\n",
       "      <td>Directory with raw pax datasets</td>\n",
       "    </tr>\n",
       "    <tr>\n",
       "      <th>14</th>\n",
       "      <td>stop_after_zips</td>\n",
       "      <td>0</td>\n",
       "      <td>&lt;OMITTED&gt;</td>\n",
       "      <td>(raw_records,)</td>\n",
       "      <td>Convert only this many zip files. 0 = all.</td>\n",
       "    </tr>\n",
       "    <tr>\n",
       "      <th>15</th>\n",
       "      <td>events_per_chunk</td>\n",
       "      <td>50</td>\n",
       "      <td>&lt;OMITTED&gt;</td>\n",
       "      <td>(raw_records,)</td>\n",
       "      <td>Number of events to yield per chunk</td>\n",
       "    </tr>\n",
       "    <tr>\n",
       "      <th>16</th>\n",
       "      <td>samples_per_record</td>\n",
       "      <td>110</td>\n",
       "      <td>&lt;OMITTED&gt;</td>\n",
       "      <td>(raw_records,)</td>\n",
       "      <td>Number of samples per record</td>\n",
       "    </tr>\n",
       "  </tbody>\n",
       "</table>\n",
       "</div>"
      ],
      "text/plain": [
       "                       option                    default  \\\n",
       "0              hev_gain_model           (disabled, None)   \n",
       "1            baseline_samples                         40   \n",
       "2         tail_veto_threshold                          0   \n",
       "3          tail_veto_duration                    3000000   \n",
       "4        tail_veto_resolution                       1000   \n",
       "5     tail_veto_pass_fraction                       0.05   \n",
       "6       tail_veto_pass_extend                          3   \n",
       "7            pmt_pulse_filter                       None   \n",
       "8           save_outside_hits                    (3, 20)   \n",
       "9                  n_tpc_pmts                  <OMITTED>   \n",
       "10  check_raw_record_overlaps                       True   \n",
       "11      allow_sloppy_chunking                      False   \n",
       "12          hit_min_amplitude  pmt_commissioning_initial   \n",
       "13                pax_raw_dir            /data/xenon/raw   \n",
       "14            stop_after_zips                          0   \n",
       "15           events_per_chunk                         50   \n",
       "16         samples_per_record                        110   \n",
       "\n",
       "                                              current  \\\n",
       "0   (to_pe_per_run, https://raw.githubusercontent....   \n",
       "1                                           <OMITTED>   \n",
       "2                                              100000   \n",
       "3                                           <OMITTED>   \n",
       "4                                           <OMITTED>   \n",
       "5                                           <OMITTED>   \n",
       "6                                           <OMITTED>   \n",
       "7   (0.012, -0.119, 2.435, -1.271, 0.357, -0.174, ...   \n",
       "8                                              (3, 3)   \n",
       "9                                                 248   \n",
       "10                                              False   \n",
       "11                                               True   \n",
       "12                                        XENON1T_SR1   \n",
       "13                                          <OMITTED>   \n",
       "14                                          <OMITTED>   \n",
       "15                                          <OMITTED>   \n",
       "16                                          <OMITTED>   \n",
       "\n",
       "                               applies_to  \\\n",
       "0   (records, veto_regions, pulse_counts)   \n",
       "1   (records, veto_regions, pulse_counts)   \n",
       "2   (records, veto_regions, pulse_counts)   \n",
       "3   (records, veto_regions, pulse_counts)   \n",
       "4   (records, veto_regions, pulse_counts)   \n",
       "5   (records, veto_regions, pulse_counts)   \n",
       "6   (records, veto_regions, pulse_counts)   \n",
       "7   (records, veto_regions, pulse_counts)   \n",
       "8   (records, veto_regions, pulse_counts)   \n",
       "9   (records, veto_regions, pulse_counts)   \n",
       "10  (records, veto_regions, pulse_counts)   \n",
       "11  (records, veto_regions, pulse_counts)   \n",
       "12  (records, veto_regions, pulse_counts)   \n",
       "13                         (raw_records,)   \n",
       "14                         (raw_records,)   \n",
       "15                         (raw_records,)   \n",
       "16                         (raw_records,)   \n",
       "\n",
       "                                                 help  \n",
       "0   PMT gain model used in the software high-energ...  \n",
       "1   Number of samples to use at the start of the p...  \n",
       "2   Minimum peakarea in PE to trigger tail veto.Se...  \n",
       "3                Time in ns to veto after large peaks  \n",
       "4   Time resolution in ns for pass-veto waveform s...  \n",
       "5   Pass veto if maximum amplitude above max * fra...  \n",
       "6   Extend pass veto by this many samples (tail_ve...  \n",
       "7   Linear filter to apply to pulses, will be norm...  \n",
       "8   Save (left, right) samples besides hits; cut t...  \n",
       "9                                  Number of TPC PMTs  \n",
       "10  Crash if any of the pulses in raw_records over...  \n",
       "11  Use a default baseline for incorrectly chunked...  \n",
       "12  Minimum hit amplitude in ADC counts above base...  \n",
       "13                    Directory with raw pax datasets  \n",
       "14         Convert only this many zip files. 0 = all.  \n",
       "15                Number of events to yield per chunk  \n",
       "16                       Number of samples per record  "
      ]
     },
     "execution_count": 30,
     "metadata": {},
     "output_type": "execute_result"
    }
   ],
   "source": [
    "st_1t.show_config('records')"
   ]
  },
  {
   "cell_type": "code",
   "execution_count": 37,
   "metadata": {},
   "outputs": [
    {
     "name": "stdout",
     "output_type": "stream",
     "text": [
      "[0.00701536 0.         0.         0.00810555 0.00438278 0.00788193\n",
      " 0.00358062 0.00751123 0.00743156 0.00483184 0.00707198 0.00565721\n",
      " 0.         0.00555947 0.00795876 0.00703689 0.00640406 0.00808125\n",
      " 0.00714394 0.00743571 0.00715155 0.00763603 0.00396764 0.00726181\n",
      " 0.00540837 0.00739989 0.         0.         0.00715719 0.00727335\n",
      " 0.00422554 0.00762081 0.00413517 0.00704631 0.         0.00536619\n",
      " 0.00742343 0.00703481 0.00454276 0.00518346 0.00701237 0.00543362\n",
      " 0.00459376 0.00733841 0.0061342  0.00651856 0.00758981 0.00475848\n",
      " 0.00747936 0.00757543 0.00458526 0.00460747 0.007139   0.00801151\n",
      " 0.00470327 0.008673   0.00374404 0.00497367 0.01036212 0.00754385\n",
      " 0.00602822 0.0083966  0.         0.00449683 0.00483235 0.\n",
      " 0.00767005 0.00722639 0.00356084 0.00565691 0.00455742 0.00788018\n",
      " 0.00774414 0.         0.00357772 0.00368471 0.00587437 0.00513111\n",
      " 0.00932719 0.         0.00508439 0.00409454 0.00386858 0.00816855\n",
      " 0.00673827 0.0080892  0.         0.00693313 0.         0.00651581\n",
      " 0.00741692 0.         0.00491794 0.00744384 0.00582707 0.00406165\n",
      " 0.00386793 0.00577526 0.00814256 0.00763733 0.00761534 0.00554928\n",
      " 0.         0.00713379 0.0050307  0.00458041 0.0044422  0.00744978\n",
      " 0.00357163 0.00759331 0.00716472 0.00725209 0.00768219 0.00604085\n",
      " 0.00586753 0.00964956 0.0046812  0.00784553 0.         0.00770527\n",
      " 0.00699427 0.00362293 0.00750835 0.00744935 0.0077104  0.00770084\n",
      " 0.00348415 0.00362088 0.00745191 0.00638144 0.         0.00512008\n",
      " 0.00372603 0.00522835 0.         0.         0.00443728 0.\n",
      " 0.00388117 0.         0.00359568 0.0053488  0.0078056  0.00510084\n",
      " 0.00645856 0.00508137 0.00428076 0.00350401 0.         0.00728004\n",
      " 0.         0.00425555 0.         0.0047207  0.00626695 0.0072852\n",
      " 0.00535683 0.00754917 0.00385517 0.0041667  0.00750039 0.00731128\n",
      " 0.         0.00777848 0.0075859  0.00666922 0.00730749 0.\n",
      " 0.00759461 0.00380563 0.00358876 0.00521189 0.00428848 0.00735498\n",
      " 0.00776976 0.00399636 0.00622929 0.00585964 0.         0.007353\n",
      " 0.00358127 0.0035781  0.00526422 0.         0.00768707 0.00405442\n",
      " 0.00430298 0.00421603 0.00760722 0.00762216 0.         0.00641507\n",
      " 0.00486023 0.00372671 0.00510187 0.00760774 0.00764935 0.00770676\n",
      " 0.         0.00525353 0.00802482 0.00510957 0.00791713 0.\n",
      " 0.00440206 0.00897228 0.         0.00451774 0.00704319 0.00867419\n",
      " 0.00512666 0.00445073 0.00404115 0.         0.         0.00354624\n",
      " 0.0041764  0.00874571 0.00365772 0.00367787 0.00727222 0.00358499\n",
      " 0.00503621 0.00359976 0.00540654 0.00721824 0.00373856 0.00621565\n",
      " 0.00647665 0.00369529 0.00770072 0.00457794 0.0074619  0.00674824\n",
      " 0.         0.00366175 0.00749074 0.00755763 0.00365295 0.\n",
      " 0.00733858 0.00405855 0.00375409 0.00399942 0.         0.00429023\n",
      " 0.00495273 0.0037874 ]\n"
     ]
    }
   ],
   "source": [
    "gains_1t_r =st_1t.get_single_plugin('170206_0116', 'records').to_pe\n",
    "print(gains_1t_r)\n"
   ]
  },
  {
   "cell_type": "code",
   "execution_count": 38,
   "metadata": {},
   "outputs": [
    {
     "name": "stdout",
     "output_type": "stream",
     "text": [
      "[0.00701536 0.         0.         0.00810555 0.00438278 0.00788193\n",
      " 0.00358062 0.00751123 0.00743156 0.00483184 0.00707198 0.00565721\n",
      " 0.         0.00555947 0.00795876 0.00703689 0.00640406 0.00808125\n",
      " 0.00714394 0.00743571 0.00715155 0.00763603 0.00396764 0.00726181\n",
      " 0.00540837 0.00739989 0.         0.         0.00715719 0.00727335\n",
      " 0.00422554 0.00762081 0.00413517 0.00704631 0.         0.00536619\n",
      " 0.00742343 0.00703481 0.00454276 0.00518346 0.00701237 0.00543362\n",
      " 0.00459376 0.00733841 0.0061342  0.00651856 0.00758981 0.00475848\n",
      " 0.00747936 0.00757543 0.00458526 0.00460747 0.007139   0.00801151\n",
      " 0.00470327 0.008673   0.00374404 0.00497367 0.01036212 0.00754385\n",
      " 0.00602822 0.0083966  0.         0.00449683 0.00483235 0.\n",
      " 0.00767005 0.00722639 0.00356084 0.00565691 0.00455742 0.00788018\n",
      " 0.00774414 0.         0.00357772 0.00368471 0.00587437 0.00513111\n",
      " 0.00932719 0.         0.00508439 0.00409454 0.00386858 0.00816855\n",
      " 0.00673827 0.0080892  0.         0.00693313 0.         0.00651581\n",
      " 0.00741692 0.         0.00491794 0.00744384 0.00582707 0.00406165\n",
      " 0.00386793 0.00577526 0.00814256 0.00763733 0.00761534 0.00554928\n",
      " 0.         0.00713379 0.0050307  0.00458041 0.0044422  0.00744978\n",
      " 0.00357163 0.00759331 0.00716472 0.00725209 0.00768219 0.00604085\n",
      " 0.00586753 0.00964956 0.0046812  0.00784553 0.         0.00770527\n",
      " 0.00699427 0.00362293 0.00750835 0.00744935 0.0077104  0.00770084\n",
      " 0.00348415 0.00362088 0.00745191 0.00638144 0.         0.00512008\n",
      " 0.00372603 0.00522835 0.         0.         0.00443728 0.\n",
      " 0.00388117 0.         0.00359568 0.0053488  0.0078056  0.00510084\n",
      " 0.00645856 0.00508137 0.00428076 0.00350401 0.         0.00728004\n",
      " 0.         0.00425555 0.         0.0047207  0.00626695 0.0072852\n",
      " 0.00535683 0.00754917 0.00385517 0.0041667  0.00750039 0.00731128\n",
      " 0.         0.00777848 0.0075859  0.00666922 0.00730749 0.\n",
      " 0.00759461 0.00380563 0.00358876 0.00521189 0.00428848 0.00735498\n",
      " 0.00776976 0.00399636 0.00622929 0.00585964 0.         0.007353\n",
      " 0.00358127 0.0035781  0.00526422 0.         0.00768707 0.00405442\n",
      " 0.00430298 0.00421603 0.00760722 0.00762216 0.         0.00641507\n",
      " 0.00486023 0.00372671 0.00510187 0.00760774 0.00764935 0.00770676\n",
      " 0.         0.00525353 0.00802482 0.00510957 0.00791713 0.\n",
      " 0.00440206 0.00897228 0.         0.00451774 0.00704319 0.00867419\n",
      " 0.00512666 0.00445073 0.00404115 0.         0.         0.00354624\n",
      " 0.0041764  0.00874571 0.00365772 0.00367787 0.00727222 0.00358499\n",
      " 0.00503621 0.00359976 0.00540654 0.00721824 0.00373856 0.00621565\n",
      " 0.00647665 0.00369529 0.00770072 0.00457794 0.0074619  0.00674824\n",
      " 0.         0.00366175 0.00749074 0.00755763 0.00365295 0.\n",
      " 0.00733858 0.00405855 0.00375409 0.00399942 0.         0.00429023\n",
      " 0.00495273 0.0037874 ]\n"
     ]
    }
   ],
   "source": [
    "gains_1t_p =st_1t.get_single_plugin('170206_0116', 'peaklets').to_pe\n",
    "print(gains_1t_p)"
   ]
  },
  {
   "cell_type": "code",
   "execution_count": 40,
   "metadata": {},
   "outputs": [
    {
     "name": "stdout",
     "output_type": "stream",
     "text": [
      "records and peaklets use same gains?  True\n"
     ]
    }
   ],
   "source": [
    "gains_comparison = gains_1t_r == gains_1t_p\n",
    "equal_gais = gains_comparison.all()\n",
    "print('records and peaklets use same gains? ',equal_gais)"
   ]
  },
  {
   "cell_type": "code",
   "execution_count": 41,
   "metadata": {},
   "outputs": [],
   "source": [
    "import straxen as st\n",
    "st = straxen.contexts.xenon1t_dali()"
   ]
  },
  {
   "cell_type": "code",
   "execution_count": 42,
   "metadata": {},
   "outputs": [
    {
     "data": {
      "text/plain": [
       "{'check_raw_record_overlaps': False,\n",
       " 'allow_sloppy_chunking': True,\n",
       " 'n_tpc_pmts': 248,\n",
       " 'n_top_pmts': 127,\n",
       " 'channel_map': immutabledict({'tpc': (0, 247), 'diagnostic': (248, 253), 'aqmon': (254, 999)}),\n",
       " 'hev_gain_model': ('to_pe_per_run',\n",
       "  'https://raw.githubusercontent.com/XENONnT/strax_auxiliary_files/master/to_pe.npy'),\n",
       " 'gain_model': ('to_pe_per_run',\n",
       "  'https://raw.githubusercontent.com/XENONnT/strax_auxiliary_files/master/to_pe.npy'),\n",
       " 'pmt_pulse_filter': (0.012,\n",
       "  -0.119,\n",
       "  2.435,\n",
       "  -1.271,\n",
       "  0.357,\n",
       "  -0.174,\n",
       "  -0.0,\n",
       "  -0.036,\n",
       "  -0.028,\n",
       "  -0.019,\n",
       "  -0.025,\n",
       "  -0.013,\n",
       "  -0.03,\n",
       "  -0.039,\n",
       "  -0.005,\n",
       "  -0.019,\n",
       "  -0.012,\n",
       "  -0.015,\n",
       "  -0.029,\n",
       "  0.024,\n",
       "  -0.007,\n",
       "  0.007,\n",
       "  -0.001,\n",
       "  0.005,\n",
       "  -0.002,\n",
       "  0.004,\n",
       "  -0.002),\n",
       " 'tail_veto_threshold': 100000,\n",
       " 'peak_right_extension': 30,\n",
       " 'peak_min_pmts': 2,\n",
       " 'save_outside_hits': (3, 3),\n",
       " 'hit_min_amplitude': 'XENON1T_SR1'}"
      ]
     },
     "execution_count": 42,
     "metadata": {},
     "output_type": "execute_result"
    }
   ],
   "source": [
    "st.config"
   ]
  },
  {
   "cell_type": "code",
   "execution_count": 43,
   "metadata": {},
   "outputs": [],
   "source": [
    "st.set_config(dict(gain_model=('to_pe_constant',0.001),s1_min_channels=50))\n"
   ]
  },
  {
   "cell_type": "code",
   "execution_count": 44,
   "metadata": {},
   "outputs": [
    {
     "data": {
      "text/plain": [
       "{'check_raw_record_overlaps': False,\n",
       " 'allow_sloppy_chunking': True,\n",
       " 'n_tpc_pmts': 248,\n",
       " 'n_top_pmts': 127,\n",
       " 'channel_map': immutabledict({'tpc': (0, 247), 'diagnostic': (248, 253), 'aqmon': (254, 999)}),\n",
       " 'hev_gain_model': ('to_pe_per_run',\n",
       "  'https://raw.githubusercontent.com/XENONnT/strax_auxiliary_files/master/to_pe.npy'),\n",
       " 'gain_model': ('to_pe_constant', 0.001),\n",
       " 'pmt_pulse_filter': (0.012,\n",
       "  -0.119,\n",
       "  2.435,\n",
       "  -1.271,\n",
       "  0.357,\n",
       "  -0.174,\n",
       "  -0.0,\n",
       "  -0.036,\n",
       "  -0.028,\n",
       "  -0.019,\n",
       "  -0.025,\n",
       "  -0.013,\n",
       "  -0.03,\n",
       "  -0.039,\n",
       "  -0.005,\n",
       "  -0.019,\n",
       "  -0.012,\n",
       "  -0.015,\n",
       "  -0.029,\n",
       "  0.024,\n",
       "  -0.007,\n",
       "  0.007,\n",
       "  -0.001,\n",
       "  0.005,\n",
       "  -0.002,\n",
       "  0.004,\n",
       "  -0.002),\n",
       " 'tail_veto_threshold': 100000,\n",
       " 'peak_right_extension': 30,\n",
       " 'peak_min_pmts': 2,\n",
       " 'save_outside_hits': (3, 3),\n",
       " 'hit_min_amplitude': 'XENON1T_SR1',\n",
       " 's1_min_channels': 50}"
      ]
     },
     "execution_count": 44,
     "metadata": {},
     "output_type": "execute_result"
    }
   ],
   "source": [
    "st.config"
   ]
  },
  {
   "cell_type": "code",
   "execution_count": null,
   "metadata": {},
   "outputs": [],
   "source": []
  }
 ],
 "metadata": {
  "kernelspec": {
   "display_name": "Python [conda env:strax-dev]",
   "language": "python",
   "name": "conda-env-strax-dev-py"
  },
  "language_info": {
   "codemirror_mode": {
    "name": "ipython",
    "version": 3
   },
   "file_extension": ".py",
   "mimetype": "text/x-python",
   "name": "python",
   "nbconvert_exporter": "python",
   "pygments_lexer": "ipython3",
   "version": "3.6.10"
  }
 },
 "nbformat": 4,
 "nbformat_minor": 4
}
