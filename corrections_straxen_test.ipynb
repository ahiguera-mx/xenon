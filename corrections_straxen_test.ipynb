{
 "cells": [
  {
   "cell_type": "markdown",
   "metadata": {},
   "source": [
    "# Corrections Management Tool (CMT)\n",
    "\n",
    "This is a quick intro to CMT.\n",
    "\n",
    "Corrections are a set of parameters to be applied at the event builder process to remove detectors effects, corrections are stored as pandas.DataFrame with a DatetimeIndex and housed at mongoDB. A general implementation about CMT can be found at strax, see for instance https://github.com/AxFoundation/strax/blob/master/strax/corrections.py and https://github.com/XENONnT/analysiscode/blob/master/StraxTests/corrections_strax_test.ipynb\n",
    "\n",
    "This note explains how to use CMT via straxen and how you can set different versions of a given correction"
   ]
  },
  {
   "cell_type": "code",
   "execution_count": 1,
   "metadata": {},
   "outputs": [],
   "source": [
    "import straxen"
   ]
  },
  {
   "cell_type": "markdown",
   "metadata": {},
   "source": [
    "#### Call correction services"
   ]
  },
  {
   "cell_type": "code",
   "execution_count": 2,
   "metadata": {},
   "outputs": [],
   "source": [
    "cmt=straxen.CmtServices()"
   ]
  },
  {
   "cell_type": "markdown",
   "metadata": {},
   "source": [
    "#### Get electron lifetime for xenon1t run"
   ]
  },
  {
   "cell_type": "code",
   "execution_count": 3,
   "metadata": {},
   "outputs": [
    {
     "data": {
      "text/plain": [
       "474859.6974259963"
      ]
     },
     "execution_count": 3,
     "metadata": {},
     "output_type": "execute_result"
    }
   ],
   "source": [
    "cmt.get_elife('170204_1710','v1',True)"
   ]
  },
  {
   "cell_type": "markdown",
   "metadata": {},
   "source": [
    "#### If user mistype a given version it would raise valueError"
   ]
  },
  {
   "cell_type": "code",
   "execution_count": 4,
   "metadata": {},
   "outputs": [
    {
     "ename": "ValueError",
     "evalue": "Global version vdas1 not found",
     "output_type": "error",
     "traceback": [
      "\u001b[0;31m---------------------------------------------------------------------------\u001b[0m",
      "\u001b[0;31mKeyError\u001b[0m                                  Traceback (most recent call last)",
      "\u001b[0;32m~/.conda/envs/corrections/lib/python3.6/site-packages/pandas/core/indexes/base.py\u001b[0m in \u001b[0;36mget_loc\u001b[0;34m(self, key, method, tolerance)\u001b[0m\n\u001b[1;32m   2888\u001b[0m             \u001b[0;32mtry\u001b[0m\u001b[0;34m:\u001b[0m\u001b[0;34m\u001b[0m\u001b[0;34m\u001b[0m\u001b[0m\n\u001b[0;32m-> 2889\u001b[0;31m                 \u001b[0;32mreturn\u001b[0m \u001b[0mself\u001b[0m\u001b[0;34m.\u001b[0m\u001b[0m_engine\u001b[0m\u001b[0;34m.\u001b[0m\u001b[0mget_loc\u001b[0m\u001b[0;34m(\u001b[0m\u001b[0mcasted_key\u001b[0m\u001b[0;34m)\u001b[0m\u001b[0;34m\u001b[0m\u001b[0;34m\u001b[0m\u001b[0m\n\u001b[0m\u001b[1;32m   2890\u001b[0m             \u001b[0;32mexcept\u001b[0m \u001b[0mKeyError\u001b[0m \u001b[0;32mas\u001b[0m \u001b[0merr\u001b[0m\u001b[0;34m:\u001b[0m\u001b[0;34m\u001b[0m\u001b[0;34m\u001b[0m\u001b[0m\n",
      "\u001b[0;32mpandas/_libs/index.pyx\u001b[0m in \u001b[0;36mpandas._libs.index.IndexEngine.get_loc\u001b[0;34m()\u001b[0m\n",
      "\u001b[0;32mpandas/_libs/index.pyx\u001b[0m in \u001b[0;36mpandas._libs.index.IndexEngine.get_loc\u001b[0;34m()\u001b[0m\n",
      "\u001b[0;32mpandas/_libs/hashtable_class_helper.pxi\u001b[0m in \u001b[0;36mpandas._libs.hashtable.PyObjectHashTable.get_item\u001b[0;34m()\u001b[0m\n",
      "\u001b[0;32mpandas/_libs/hashtable_class_helper.pxi\u001b[0m in \u001b[0;36mpandas._libs.hashtable.PyObjectHashTable.get_item\u001b[0;34m()\u001b[0m\n",
      "\u001b[0;31mKeyError\u001b[0m: 'vdas1'",
      "\nThe above exception was the direct cause of the following exception:\n",
      "\u001b[0;31mKeyError\u001b[0m                                  Traceback (most recent call last)",
      "\u001b[0;32m~/.conda/envs/corrections/lib/python3.6/site-packages/straxen/corrections_services.py\u001b[0m in \u001b[0;36mget_elife\u001b[0;34m(self, run_id, global_version, xenon1t)\u001b[0m\n\u001b[1;32m    140\u001b[0m         \u001b[0;32mtry\u001b[0m\u001b[0;34m:\u001b[0m\u001b[0;34m\u001b[0m\u001b[0;34m\u001b[0m\u001b[0m\n\u001b[0;32m--> 141\u001b[0;31m             \u001b[0;32mfor\u001b[0m \u001b[0mcorrection\u001b[0m\u001b[0;34m,\u001b[0m \u001b[0mversion\u001b[0m \u001b[0;32min\u001b[0m \u001b[0mdf_global\u001b[0m\u001b[0;34m.\u001b[0m\u001b[0miloc\u001b[0m\u001b[0;34m[\u001b[0m\u001b[0;34m-\u001b[0m\u001b[0;36m1\u001b[0m\u001b[0;34m]\u001b[0m\u001b[0;34m[\u001b[0m\u001b[0mglobal_version\u001b[0m\u001b[0;34m]\u001b[0m\u001b[0;34m.\u001b[0m\u001b[0mitems\u001b[0m\u001b[0;34m(\u001b[0m\u001b[0;34m)\u001b[0m\u001b[0;34m:\u001b[0m\u001b[0;34m\u001b[0m\u001b[0;34m\u001b[0m\u001b[0m\n\u001b[0m\u001b[1;32m    142\u001b[0m                 \u001b[0;32mif\u001b[0m \u001b[0;34m'elife'\u001b[0m \u001b[0;32min\u001b[0m \u001b[0mcorrection\u001b[0m\u001b[0;34m:\u001b[0m\u001b[0;34m\u001b[0m\u001b[0;34m\u001b[0m\u001b[0m\n",
      "\u001b[0;32m~/.conda/envs/corrections/lib/python3.6/site-packages/pandas/core/series.py\u001b[0m in \u001b[0;36m__getitem__\u001b[0;34m(self, key)\u001b[0m\n\u001b[1;32m    881\u001b[0m         \u001b[0;32melif\u001b[0m \u001b[0mkey_is_scalar\u001b[0m\u001b[0;34m:\u001b[0m\u001b[0;34m\u001b[0m\u001b[0;34m\u001b[0m\u001b[0m\n\u001b[0;32m--> 882\u001b[0;31m             \u001b[0;32mreturn\u001b[0m \u001b[0mself\u001b[0m\u001b[0;34m.\u001b[0m\u001b[0m_get_value\u001b[0m\u001b[0;34m(\u001b[0m\u001b[0mkey\u001b[0m\u001b[0;34m)\u001b[0m\u001b[0;34m\u001b[0m\u001b[0;34m\u001b[0m\u001b[0m\n\u001b[0m\u001b[1;32m    883\u001b[0m \u001b[0;34m\u001b[0m\u001b[0m\n",
      "\u001b[0;32m~/.conda/envs/corrections/lib/python3.6/site-packages/pandas/core/series.py\u001b[0m in \u001b[0;36m_get_value\u001b[0;34m(self, label, takeable)\u001b[0m\n\u001b[1;32m    990\u001b[0m         \u001b[0;31m# Similar to Index.get_value, but we do not fall back to positional\u001b[0m\u001b[0;34m\u001b[0m\u001b[0;34m\u001b[0m\u001b[0;34m\u001b[0m\u001b[0m\n\u001b[0;32m--> 991\u001b[0;31m         \u001b[0mloc\u001b[0m \u001b[0;34m=\u001b[0m \u001b[0mself\u001b[0m\u001b[0;34m.\u001b[0m\u001b[0mindex\u001b[0m\u001b[0;34m.\u001b[0m\u001b[0mget_loc\u001b[0m\u001b[0;34m(\u001b[0m\u001b[0mlabel\u001b[0m\u001b[0;34m)\u001b[0m\u001b[0;34m\u001b[0m\u001b[0;34m\u001b[0m\u001b[0m\n\u001b[0m\u001b[1;32m    992\u001b[0m         \u001b[0;32mreturn\u001b[0m \u001b[0mself\u001b[0m\u001b[0;34m.\u001b[0m\u001b[0mindex\u001b[0m\u001b[0;34m.\u001b[0m\u001b[0m_get_values_for_loc\u001b[0m\u001b[0;34m(\u001b[0m\u001b[0mself\u001b[0m\u001b[0;34m,\u001b[0m \u001b[0mloc\u001b[0m\u001b[0;34m,\u001b[0m \u001b[0mlabel\u001b[0m\u001b[0;34m)\u001b[0m\u001b[0;34m\u001b[0m\u001b[0;34m\u001b[0m\u001b[0m\n",
      "\u001b[0;32m~/.conda/envs/corrections/lib/python3.6/site-packages/pandas/core/indexes/base.py\u001b[0m in \u001b[0;36mget_loc\u001b[0;34m(self, key, method, tolerance)\u001b[0m\n\u001b[1;32m   2890\u001b[0m             \u001b[0;32mexcept\u001b[0m \u001b[0mKeyError\u001b[0m \u001b[0;32mas\u001b[0m \u001b[0merr\u001b[0m\u001b[0;34m:\u001b[0m\u001b[0;34m\u001b[0m\u001b[0;34m\u001b[0m\u001b[0m\n\u001b[0;32m-> 2891\u001b[0;31m                 \u001b[0;32mraise\u001b[0m \u001b[0mKeyError\u001b[0m\u001b[0;34m(\u001b[0m\u001b[0mkey\u001b[0m\u001b[0;34m)\u001b[0m \u001b[0;32mfrom\u001b[0m \u001b[0merr\u001b[0m\u001b[0;34m\u001b[0m\u001b[0;34m\u001b[0m\u001b[0m\n\u001b[0m\u001b[1;32m   2892\u001b[0m \u001b[0;34m\u001b[0m\u001b[0m\n",
      "\u001b[0;31mKeyError\u001b[0m: 'vdas1'",
      "\nDuring handling of the above exception, another exception occurred:\n",
      "\u001b[0;31mValueError\u001b[0m                                Traceback (most recent call last)",
      "\u001b[0;32m<ipython-input-4-1e609df9cf95>\u001b[0m in \u001b[0;36m<module>\u001b[0;34m\u001b[0m\n\u001b[0;32m----> 1\u001b[0;31m \u001b[0mcmt\u001b[0m\u001b[0;34m.\u001b[0m\u001b[0mget_elife\u001b[0m\u001b[0;34m(\u001b[0m\u001b[0;34m'170204_1710'\u001b[0m\u001b[0;34m,\u001b[0m\u001b[0;34m'vdas1'\u001b[0m\u001b[0;34m,\u001b[0m\u001b[0;32mTrue\u001b[0m\u001b[0;34m)\u001b[0m\u001b[0;34m\u001b[0m\u001b[0;34m\u001b[0m\u001b[0m\n\u001b[0m",
      "\u001b[0;32m~/.conda/envs/corrections/lib/python3.6/site-packages/straxen/corrections_services.py\u001b[0m in \u001b[0;36mget_elife\u001b[0;34m(self, run_id, global_version, xenon1t)\u001b[0m\n\u001b[1;32m    144\u001b[0m                     \u001b[0mdf\u001b[0m \u001b[0;34m=\u001b[0m \u001b[0mself\u001b[0m\u001b[0;34m.\u001b[0m\u001b[0minterface\u001b[0m\u001b[0;34m.\u001b[0m\u001b[0minterpolate\u001b[0m\u001b[0;34m(\u001b[0m\u001b[0mdf\u001b[0m\u001b[0;34m,\u001b[0m \u001b[0mwhen\u001b[0m\u001b[0;34m)\u001b[0m\u001b[0;34m\u001b[0m\u001b[0;34m\u001b[0m\u001b[0m\n\u001b[1;32m    145\u001b[0m         \u001b[0;32mexcept\u001b[0m \u001b[0mKeyError\u001b[0m\u001b[0;34m:\u001b[0m\u001b[0;34m\u001b[0m\u001b[0;34m\u001b[0m\u001b[0m\n\u001b[0;32m--> 146\u001b[0;31m             \u001b[0;32mraise\u001b[0m \u001b[0mValueError\u001b[0m\u001b[0;34m(\u001b[0m\u001b[0;34mf'Global version {global_version} not found'\u001b[0m\u001b[0;34m)\u001b[0m\u001b[0;34m\u001b[0m\u001b[0;34m\u001b[0m\u001b[0m\n\u001b[0m\u001b[1;32m    147\u001b[0m \u001b[0;34m\u001b[0m\u001b[0m\n\u001b[1;32m    148\u001b[0m         \u001b[0;32mreturn\u001b[0m \u001b[0mdf\u001b[0m\u001b[0;34m.\u001b[0m\u001b[0mloc\u001b[0m\u001b[0;34m[\u001b[0m\u001b[0mdf\u001b[0m\u001b[0;34m.\u001b[0m\u001b[0mindex\u001b[0m \u001b[0;34m==\u001b[0m \u001b[0mwhen\u001b[0m\u001b[0;34m,\u001b[0m \u001b[0mglobal_version\u001b[0m\u001b[0;34m]\u001b[0m\u001b[0;34m.\u001b[0m\u001b[0mvalues\u001b[0m\u001b[0;34m[\u001b[0m\u001b[0;36m0\u001b[0m\u001b[0;34m]\u001b[0m\u001b[0;34m\u001b[0m\u001b[0;34m\u001b[0m\u001b[0m\n",
      "\u001b[0;31mValueError\u001b[0m: Global version vdas1 not found"
     ]
    }
   ],
   "source": [
    "cmt.get_elife('170204_1710','vdas1',True)"
   ]
  },
  {
   "cell_type": "markdown",
   "metadata": {},
   "source": [
    "#### Get PMT gains a.k.a as to_pe values for a given run (it would use the start time to find the data) "
   ]
  },
  {
   "cell_type": "code",
   "execution_count": 4,
   "metadata": {},
   "outputs": [
    {
     "data": {
      "text/plain": [
       "array([0.00701489, 0.        , 0.        , 0.00810555, 0.00438278,\n",
       "       0.00788193, 0.00358062, 0.00751123, 0.00743156, 0.00483184,\n",
       "       0.00707198, 0.00565603, 0.        , 0.00555947, 0.00795876,\n",
       "       0.00703689, 0.00640406, 0.00808116, 0.00714394, 0.00743571,\n",
       "       0.00715155, 0.00763603, 0.00396764, 0.00726161, 0.00540837,\n",
       "       0.00739988, 0.        , 0.        , 0.00715983, 0.00727335,\n",
       "       0.00422554, 0.00762081, 0.00413517, 0.00704631, 0.        ,\n",
       "       0.00536619, 0.00742343, 0.00703481, 0.00454276, 0.00518346,\n",
       "       0.00701137, 0.00543242, 0.00459376, 0.00733841, 0.0061342 ,\n",
       "       0.00651856, 0.00758981, 0.00475848, 0.00747863, 0.00757543,\n",
       "       0.00458526, 0.00460747, 0.007139  , 0.00801151, 0.00470327,\n",
       "       0.008673  , 0.00374404, 0.00497367, 0.01036212, 0.00754385,\n",
       "       0.00602822, 0.00839661, 0.        , 0.00449683, 0.00483235,\n",
       "       0.        , 0.00766865, 0.00722537, 0.00356084, 0.00565691,\n",
       "       0.00455742, 0.00788018, 0.00774203, 0.        , 0.00357772,\n",
       "       0.00368471, 0.00587437, 0.00513111, 0.00932411, 0.        ,\n",
       "       0.00508439, 0.00409454, 0.00386858, 0.00816855, 0.00673827,\n",
       "       0.00808603, 0.        , 0.00693313, 0.        , 0.00651581,\n",
       "       0.00741692, 0.        , 0.00491794, 0.00744342, 0.00582707,\n",
       "       0.00406165, 0.00386735, 0.00577526, 0.00814256, 0.00763733,\n",
       "       0.00761534, 0.00554928, 0.        , 0.00713379, 0.0050307 ,\n",
       "       0.00458041, 0.0044422 , 0.00744978, 0.00357163, 0.00759331,\n",
       "       0.00716472, 0.00725001, 0.00768219, 0.00604085, 0.00586753,\n",
       "       0.00964956, 0.0046812 , 0.00784508, 0.        , 0.0077048 ,\n",
       "       0.00699427, 0.00362293, 0.00750835, 0.00744935, 0.00771105,\n",
       "       0.00770084, 0.00348415, 0.00362088, 0.00745191, 0.00638144,\n",
       "       0.        , 0.00512008, 0.00372603, 0.00522835, 0.        ,\n",
       "       0.        , 0.00443728, 0.        , 0.00388117, 0.        ,\n",
       "       0.00359568, 0.0053488 , 0.00780469, 0.00510084, 0.00645856,\n",
       "       0.00508137, 0.00428076, 0.00350401, 0.        , 0.00728004,\n",
       "       0.        , 0.00425555, 0.        , 0.0047207 , 0.00626695,\n",
       "       0.0072852 , 0.00535683, 0.00754917, 0.00385517, 0.0041667 ,\n",
       "       0.00750039, 0.00731128, 0.        , 0.00777848, 0.0075859 ,\n",
       "       0.00666922, 0.00730749, 0.        , 0.00759461, 0.00380563,\n",
       "       0.00358876, 0.00521189, 0.00428848, 0.00735498, 0.00776976,\n",
       "       0.00399636, 0.00622929, 0.00585964, 0.        , 0.007353  ,\n",
       "       0.00358127, 0.0035781 , 0.00526422, 0.        , 0.00768707,\n",
       "       0.00405442, 0.00430298, 0.00421603, 0.00760722, 0.00762216,\n",
       "       0.        , 0.00641507, 0.00486023, 0.00372671, 0.00510187,\n",
       "       0.00760774, 0.00764935, 0.00770676, 0.        , 0.00525353,\n",
       "       0.00802482, 0.00510837, 0.00791713, 0.        , 0.00440206,\n",
       "       0.00897228, 0.        , 0.00451774, 0.00704319, 0.00867114,\n",
       "       0.00512666, 0.00445073, 0.00404115, 0.        , 0.        ,\n",
       "       0.00354624, 0.0041764 , 0.00874286, 0.00365772, 0.00367787,\n",
       "       0.00727222, 0.00358499, 0.00503621, 0.00359976, 0.00540654,\n",
       "       0.00721824, 0.00373856, 0.00621565, 0.00647665, 0.00369529,\n",
       "       0.00770072, 0.00457794, 0.0074619 , 0.00674824, 0.        ,\n",
       "       0.00366175, 0.00749074, 0.00755763, 0.00365295, 0.        ,\n",
       "       0.00733858, 0.00405855, 0.00375409, 0.00399942, 0.        ,\n",
       "       0.00429023, 0.00495273, 0.0037874 ], dtype=float32)"
      ]
     },
     "execution_count": 4,
     "metadata": {},
     "output_type": "execute_result"
    }
   ],
   "source": [
    "cmt.get_pmt_gains('170204_1710','v1',True)"
   ]
  },
  {
   "cell_type": "markdown",
   "metadata": {},
   "source": [
    "#### To Be Done: LCE maps and FDC maps"
   ]
  },
  {
   "cell_type": "code",
   "execution_count": 6,
   "metadata": {},
   "outputs": [
    {
     "ename": "NotImplementedError",
     "evalue": "",
     "output_type": "error",
     "traceback": [
      "\u001b[0;31m---------------------------------------------------------------------------\u001b[0m",
      "\u001b[0;31mNotImplementedError\u001b[0m                       Traceback (most recent call last)",
      "\u001b[0;32m<ipython-input-6-927b3cbeaae4>\u001b[0m in \u001b[0;36m<module>\u001b[0;34m\u001b[0m\n\u001b[0;32m----> 1\u001b[0;31m \u001b[0mcmt\u001b[0m\u001b[0;34m.\u001b[0m\u001b[0mget_fdc\u001b[0m\u001b[0;34m(\u001b[0m\u001b[0;34m'170204_1710'\u001b[0m\u001b[0;34m,\u001b[0m\u001b[0;36m2\u001b[0m\u001b[0;34m,\u001b[0m\u001b[0;34m'v1'\u001b[0m\u001b[0;34m,\u001b[0m\u001b[0;32mTrue\u001b[0m\u001b[0;34m)\u001b[0m\u001b[0;34m\u001b[0m\u001b[0;34m\u001b[0m\u001b[0m\n\u001b[0m",
      "\u001b[0;32m~/.conda/envs/corrections/lib/python3.6/site-packages/straxen/corrections_services.py\u001b[0m in \u001b[0;36mget_fdc\u001b[0;34m(self, run_id, position, global_version, xenon1t)\u001b[0m\n\u001b[1;32m    198\u001b[0m         \u001b[0;34m:\u001b[0m\u001b[0mparam\u001b[0m \u001b[0mxenon1t\u001b[0m\u001b[0;34m:\u001b[0m \u001b[0mboolean\u001b[0m \u001b[0mxenon1t\u001b[0m \u001b[0mdata\u001b[0m\u001b[0;34m=\u001b[0m\u001b[0;32mFalse\u001b[0m\u001b[0;34m/\u001b[0m\u001b[0;32mTrue\u001b[0m\u001b[0;34m\u001b[0m\u001b[0;34m\u001b[0m\u001b[0m\n\u001b[1;32m    199\u001b[0m         \"\"\"\n\u001b[0;32m--> 200\u001b[0;31m         \u001b[0;32mraise\u001b[0m \u001b[0mNotImplementedError\u001b[0m\u001b[0;34m\u001b[0m\u001b[0;34m\u001b[0m\u001b[0m\n\u001b[0m\u001b[1;32m    201\u001b[0m \u001b[0;34m\u001b[0m\u001b[0m\n\u001b[1;32m    202\u001b[0m     \u001b[0;32mdef\u001b[0m \u001b[0mget_time\u001b[0m\u001b[0;34m(\u001b[0m\u001b[0mself\u001b[0m\u001b[0;34m,\u001b[0m \u001b[0mrun_id\u001b[0m\u001b[0;34m,\u001b[0m \u001b[0mxenon1t\u001b[0m\u001b[0;34m=\u001b[0m\u001b[0;32mFalse\u001b[0m\u001b[0;34m)\u001b[0m\u001b[0;34m:\u001b[0m\u001b[0;34m\u001b[0m\u001b[0;34m\u001b[0m\u001b[0m\n",
      "\u001b[0;31mNotImplementedError\u001b[0m: "
     ]
    }
   ],
   "source": [
    "cmt.get_fdc('170204_1710',2,'v1',True)"
   ]
  },
  {
   "cell_type": "markdown",
   "metadata": {},
   "source": [
    "#### Define a context config option for the PMT gains"
   ]
  },
  {
   "cell_type": "code",
   "execution_count": 14,
   "metadata": {},
   "outputs": [],
   "source": [
    "st = straxen.contexts.xenon1t_dali()"
   ]
  },
  {
   "cell_type": "code",
   "execution_count": 15,
   "metadata": {},
   "outputs": [],
   "source": [
    "st.set_config(dict(gain_model=('to_pe_constant',1.66,True)))"
   ]
  },
  {
   "cell_type": "code",
   "execution_count": 9,
   "metadata": {},
   "outputs": [
    {
     "data": {
      "text/html": [
       "<div>\n",
       "<style scoped>\n",
       "    .dataframe tbody tr th:only-of-type {\n",
       "        vertical-align: middle;\n",
       "    }\n",
       "\n",
       "    .dataframe tbody tr th {\n",
       "        vertical-align: top;\n",
       "    }\n",
       "\n",
       "    .dataframe thead th {\n",
       "        text-align: right;\n",
       "    }\n",
       "</style>\n",
       "<table border=\"1\" class=\"dataframe\">\n",
       "  <thead>\n",
       "    <tr style=\"text-align: right;\">\n",
       "      <th></th>\n",
       "      <th>option</th>\n",
       "      <th>default</th>\n",
       "      <th>current</th>\n",
       "      <th>applies_to</th>\n",
       "      <th>help</th>\n",
       "    </tr>\n",
       "  </thead>\n",
       "  <tbody>\n",
       "    <tr>\n",
       "      <th>0</th>\n",
       "      <td>peaklet_gap_threshold</td>\n",
       "      <td>350</td>\n",
       "      <td>&lt;OMITTED&gt;</td>\n",
       "      <td>(peaklets, lone_hits)</td>\n",
       "      <td>No hits for this many ns triggers a new peak</td>\n",
       "    </tr>\n",
       "    <tr>\n",
       "      <th>1</th>\n",
       "      <td>peak_left_extension</td>\n",
       "      <td>30</td>\n",
       "      <td>&lt;OMITTED&gt;</td>\n",
       "      <td>(peaklets, lone_hits)</td>\n",
       "      <td>Include this many ns left of hits in peaks</td>\n",
       "    </tr>\n",
       "    <tr>\n",
       "      <th>2</th>\n",
       "      <td>peak_right_extension</td>\n",
       "      <td>200</td>\n",
       "      <td>30</td>\n",
       "      <td>(peaklets, lone_hits)</td>\n",
       "      <td>Include this many ns right of hits in peaks</td>\n",
       "    </tr>\n",
       "    <tr>\n",
       "      <th>3</th>\n",
       "      <td>peak_min_pmts</td>\n",
       "      <td>4</td>\n",
       "      <td>2</td>\n",
       "      <td>(peaklets, lone_hits)</td>\n",
       "      <td>Minimum number of contributing PMTs needed to ...</td>\n",
       "    </tr>\n",
       "    <tr>\n",
       "      <th>4</th>\n",
       "      <td>peak_split_gof_threshold</td>\n",
       "      <td>(None, ((0.5, 1), (4, 0.4)), ((2, 1), (4.5, 0....</td>\n",
       "      <td>(None, ((0.5, 1), (3.5, 0.25)), ((2, 1), (4.5,...</td>\n",
       "      <td>(peaklets, lone_hits)</td>\n",
       "      <td>Natural breaks goodness of fit/split threshold...</td>\n",
       "    </tr>\n",
       "    <tr>\n",
       "      <th>5</th>\n",
       "      <td>peak_split_filter_wing_width</td>\n",
       "      <td>70</td>\n",
       "      <td>&lt;OMITTED&gt;</td>\n",
       "      <td>(peaklets, lone_hits)</td>\n",
       "      <td>Wing width of moving average filter for low-sp...</td>\n",
       "    </tr>\n",
       "    <tr>\n",
       "      <th>6</th>\n",
       "      <td>peak_split_min_area</td>\n",
       "      <td>40</td>\n",
       "      <td>&lt;OMITTED&gt;</td>\n",
       "      <td>(peaklets, lone_hits)</td>\n",
       "      <td>Minimum area to evaluate natural breaks criter...</td>\n",
       "    </tr>\n",
       "    <tr>\n",
       "      <th>7</th>\n",
       "      <td>peak_split_iterations</td>\n",
       "      <td>20</td>\n",
       "      <td>&lt;OMITTED&gt;</td>\n",
       "      <td>(peaklets, lone_hits)</td>\n",
       "      <td>Maximum number of recursive peak splits to do.</td>\n",
       "    </tr>\n",
       "    <tr>\n",
       "      <th>8</th>\n",
       "      <td>diagnose_sorting</td>\n",
       "      <td>False</td>\n",
       "      <td>&lt;OMITTED&gt;</td>\n",
       "      <td>(peaklets, lone_hits)</td>\n",
       "      <td>Enable runtime checks for sorting and disjoint...</td>\n",
       "    </tr>\n",
       "    <tr>\n",
       "      <th>9</th>\n",
       "      <td>gain_model</td>\n",
       "      <td>&lt;OMITTED&gt;</td>\n",
       "      <td>(to_pe_constant, 1.66, True)</td>\n",
       "      <td>(peaklets, lone_hits)</td>\n",
       "      <td>PMT gain model. Specify as (model_type, model_...</td>\n",
       "    </tr>\n",
       "    <tr>\n",
       "      <th>10</th>\n",
       "      <td>tight_coincidence_window_left</td>\n",
       "      <td>50</td>\n",
       "      <td>&lt;OMITTED&gt;</td>\n",
       "      <td>(peaklets, lone_hits)</td>\n",
       "      <td>Time range left of peak center to call a hit a...</td>\n",
       "    </tr>\n",
       "    <tr>\n",
       "      <th>11</th>\n",
       "      <td>tight_coincidence_window_right</td>\n",
       "      <td>50</td>\n",
       "      <td>&lt;OMITTED&gt;</td>\n",
       "      <td>(peaklets, lone_hits)</td>\n",
       "      <td>Time range right of peak center to call a hit ...</td>\n",
       "    </tr>\n",
       "    <tr>\n",
       "      <th>12</th>\n",
       "      <td>n_tpc_pmts</td>\n",
       "      <td>&lt;OMITTED&gt;</td>\n",
       "      <td>248</td>\n",
       "      <td>(peaklets, lone_hits)</td>\n",
       "      <td>Number of TPC PMTs</td>\n",
       "    </tr>\n",
       "    <tr>\n",
       "      <th>13</th>\n",
       "      <td>hit_min_amplitude</td>\n",
       "      <td>pmt_commissioning_initial</td>\n",
       "      <td>XENON1T_SR1</td>\n",
       "      <td>(peaklets, lone_hits)</td>\n",
       "      <td>Minimum hit amplitude in ADC counts above base...</td>\n",
       "    </tr>\n",
       "    <tr>\n",
       "      <th>14</th>\n",
       "      <td>hev_gain_model</td>\n",
       "      <td>(disabled, None)</td>\n",
       "      <td>(to_pe_per_run, https://raw.githubusercontent....</td>\n",
       "      <td>(records, veto_regions, pulse_counts)</td>\n",
       "      <td>PMT gain model used in the software high-energ...</td>\n",
       "    </tr>\n",
       "    <tr>\n",
       "      <th>15</th>\n",
       "      <td>baseline_samples</td>\n",
       "      <td>40</td>\n",
       "      <td>&lt;OMITTED&gt;</td>\n",
       "      <td>(records, veto_regions, pulse_counts)</td>\n",
       "      <td>Number of samples to use at the start of the p...</td>\n",
       "    </tr>\n",
       "    <tr>\n",
       "      <th>16</th>\n",
       "      <td>tail_veto_threshold</td>\n",
       "      <td>0</td>\n",
       "      <td>100000</td>\n",
       "      <td>(records, veto_regions, pulse_counts)</td>\n",
       "      <td>Minimum peakarea in PE to trigger tail veto.Se...</td>\n",
       "    </tr>\n",
       "    <tr>\n",
       "      <th>17</th>\n",
       "      <td>tail_veto_duration</td>\n",
       "      <td>3000000</td>\n",
       "      <td>&lt;OMITTED&gt;</td>\n",
       "      <td>(records, veto_regions, pulse_counts)</td>\n",
       "      <td>Time in ns to veto after large peaks</td>\n",
       "    </tr>\n",
       "    <tr>\n",
       "      <th>18</th>\n",
       "      <td>tail_veto_resolution</td>\n",
       "      <td>1000</td>\n",
       "      <td>&lt;OMITTED&gt;</td>\n",
       "      <td>(records, veto_regions, pulse_counts)</td>\n",
       "      <td>Time resolution in ns for pass-veto waveform s...</td>\n",
       "    </tr>\n",
       "    <tr>\n",
       "      <th>19</th>\n",
       "      <td>tail_veto_pass_fraction</td>\n",
       "      <td>0.05</td>\n",
       "      <td>&lt;OMITTED&gt;</td>\n",
       "      <td>(records, veto_regions, pulse_counts)</td>\n",
       "      <td>Pass veto if maximum amplitude above max * fra...</td>\n",
       "    </tr>\n",
       "    <tr>\n",
       "      <th>20</th>\n",
       "      <td>tail_veto_pass_extend</td>\n",
       "      <td>3</td>\n",
       "      <td>&lt;OMITTED&gt;</td>\n",
       "      <td>(records, veto_regions, pulse_counts)</td>\n",
       "      <td>Extend pass veto by this many samples (tail_ve...</td>\n",
       "    </tr>\n",
       "    <tr>\n",
       "      <th>21</th>\n",
       "      <td>pmt_pulse_filter</td>\n",
       "      <td>None</td>\n",
       "      <td>(0.012, -0.119, 2.435, -1.271, 0.357, -0.174, ...</td>\n",
       "      <td>(records, veto_regions, pulse_counts)</td>\n",
       "      <td>Linear filter to apply to pulses, will be norm...</td>\n",
       "    </tr>\n",
       "    <tr>\n",
       "      <th>22</th>\n",
       "      <td>save_outside_hits</td>\n",
       "      <td>(3, 20)</td>\n",
       "      <td>(3, 3)</td>\n",
       "      <td>(records, veto_regions, pulse_counts)</td>\n",
       "      <td>Save (left, right) samples besides hits; cut t...</td>\n",
       "    </tr>\n",
       "    <tr>\n",
       "      <th>23</th>\n",
       "      <td>n_tpc_pmts</td>\n",
       "      <td>&lt;OMITTED&gt;</td>\n",
       "      <td>248</td>\n",
       "      <td>(records, veto_regions, pulse_counts)</td>\n",
       "      <td>Number of TPC PMTs</td>\n",
       "    </tr>\n",
       "    <tr>\n",
       "      <th>24</th>\n",
       "      <td>check_raw_record_overlaps</td>\n",
       "      <td>True</td>\n",
       "      <td>False</td>\n",
       "      <td>(records, veto_regions, pulse_counts)</td>\n",
       "      <td>Crash if any of the pulses in raw_records over...</td>\n",
       "    </tr>\n",
       "    <tr>\n",
       "      <th>25</th>\n",
       "      <td>allow_sloppy_chunking</td>\n",
       "      <td>False</td>\n",
       "      <td>True</td>\n",
       "      <td>(records, veto_regions, pulse_counts)</td>\n",
       "      <td>Use a default baseline for incorrectly chunked...</td>\n",
       "    </tr>\n",
       "    <tr>\n",
       "      <th>26</th>\n",
       "      <td>hit_min_amplitude</td>\n",
       "      <td>pmt_commissioning_initial</td>\n",
       "      <td>XENON1T_SR1</td>\n",
       "      <td>(records, veto_regions, pulse_counts)</td>\n",
       "      <td>Minimum hit amplitude in ADC counts above base...</td>\n",
       "    </tr>\n",
       "    <tr>\n",
       "      <th>27</th>\n",
       "      <td>pax_raw_dir</td>\n",
       "      <td>/data/xenon/raw</td>\n",
       "      <td>&lt;OMITTED&gt;</td>\n",
       "      <td>(raw_records,)</td>\n",
       "      <td>Directory with raw pax datasets</td>\n",
       "    </tr>\n",
       "    <tr>\n",
       "      <th>28</th>\n",
       "      <td>stop_after_zips</td>\n",
       "      <td>0</td>\n",
       "      <td>&lt;OMITTED&gt;</td>\n",
       "      <td>(raw_records,)</td>\n",
       "      <td>Convert only this many zip files. 0 = all.</td>\n",
       "    </tr>\n",
       "    <tr>\n",
       "      <th>29</th>\n",
       "      <td>events_per_chunk</td>\n",
       "      <td>50</td>\n",
       "      <td>&lt;OMITTED&gt;</td>\n",
       "      <td>(raw_records,)</td>\n",
       "      <td>Number of events to yield per chunk</td>\n",
       "    </tr>\n",
       "    <tr>\n",
       "      <th>30</th>\n",
       "      <td>samples_per_record</td>\n",
       "      <td>110</td>\n",
       "      <td>&lt;OMITTED&gt;</td>\n",
       "      <td>(raw_records,)</td>\n",
       "      <td>Number of samples per record</td>\n",
       "    </tr>\n",
       "  </tbody>\n",
       "</table>\n",
       "</div>"
      ],
      "text/plain": [
       "                            option  \\\n",
       "0            peaklet_gap_threshold   \n",
       "1              peak_left_extension   \n",
       "2             peak_right_extension   \n",
       "3                    peak_min_pmts   \n",
       "4         peak_split_gof_threshold   \n",
       "5     peak_split_filter_wing_width   \n",
       "6              peak_split_min_area   \n",
       "7            peak_split_iterations   \n",
       "8                 diagnose_sorting   \n",
       "9                       gain_model   \n",
       "10   tight_coincidence_window_left   \n",
       "11  tight_coincidence_window_right   \n",
       "12                      n_tpc_pmts   \n",
       "13               hit_min_amplitude   \n",
       "14                  hev_gain_model   \n",
       "15                baseline_samples   \n",
       "16             tail_veto_threshold   \n",
       "17              tail_veto_duration   \n",
       "18            tail_veto_resolution   \n",
       "19         tail_veto_pass_fraction   \n",
       "20           tail_veto_pass_extend   \n",
       "21                pmt_pulse_filter   \n",
       "22               save_outside_hits   \n",
       "23                      n_tpc_pmts   \n",
       "24       check_raw_record_overlaps   \n",
       "25           allow_sloppy_chunking   \n",
       "26               hit_min_amplitude   \n",
       "27                     pax_raw_dir   \n",
       "28                 stop_after_zips   \n",
       "29                events_per_chunk   \n",
       "30              samples_per_record   \n",
       "\n",
       "                                              default  \\\n",
       "0                                                 350   \n",
       "1                                                  30   \n",
       "2                                                 200   \n",
       "3                                                   4   \n",
       "4   (None, ((0.5, 1), (4, 0.4)), ((2, 1), (4.5, 0....   \n",
       "5                                                  70   \n",
       "6                                                  40   \n",
       "7                                                  20   \n",
       "8                                               False   \n",
       "9                                           <OMITTED>   \n",
       "10                                                 50   \n",
       "11                                                 50   \n",
       "12                                          <OMITTED>   \n",
       "13                          pmt_commissioning_initial   \n",
       "14                                   (disabled, None)   \n",
       "15                                                 40   \n",
       "16                                                  0   \n",
       "17                                            3000000   \n",
       "18                                               1000   \n",
       "19                                               0.05   \n",
       "20                                                  3   \n",
       "21                                               None   \n",
       "22                                            (3, 20)   \n",
       "23                                          <OMITTED>   \n",
       "24                                               True   \n",
       "25                                              False   \n",
       "26                          pmt_commissioning_initial   \n",
       "27                                    /data/xenon/raw   \n",
       "28                                                  0   \n",
       "29                                                 50   \n",
       "30                                                110   \n",
       "\n",
       "                                              current  \\\n",
       "0                                           <OMITTED>   \n",
       "1                                           <OMITTED>   \n",
       "2                                                  30   \n",
       "3                                                   2   \n",
       "4   (None, ((0.5, 1), (3.5, 0.25)), ((2, 1), (4.5,...   \n",
       "5                                           <OMITTED>   \n",
       "6                                           <OMITTED>   \n",
       "7                                           <OMITTED>   \n",
       "8                                           <OMITTED>   \n",
       "9                        (to_pe_constant, 1.66, True)   \n",
       "10                                          <OMITTED>   \n",
       "11                                          <OMITTED>   \n",
       "12                                                248   \n",
       "13                                        XENON1T_SR1   \n",
       "14  (to_pe_per_run, https://raw.githubusercontent....   \n",
       "15                                          <OMITTED>   \n",
       "16                                             100000   \n",
       "17                                          <OMITTED>   \n",
       "18                                          <OMITTED>   \n",
       "19                                          <OMITTED>   \n",
       "20                                          <OMITTED>   \n",
       "21  (0.012, -0.119, 2.435, -1.271, 0.357, -0.174, ...   \n",
       "22                                             (3, 3)   \n",
       "23                                                248   \n",
       "24                                              False   \n",
       "25                                               True   \n",
       "26                                        XENON1T_SR1   \n",
       "27                                          <OMITTED>   \n",
       "28                                          <OMITTED>   \n",
       "29                                          <OMITTED>   \n",
       "30                                          <OMITTED>   \n",
       "\n",
       "                               applies_to  \\\n",
       "0                   (peaklets, lone_hits)   \n",
       "1                   (peaklets, lone_hits)   \n",
       "2                   (peaklets, lone_hits)   \n",
       "3                   (peaklets, lone_hits)   \n",
       "4                   (peaklets, lone_hits)   \n",
       "5                   (peaklets, lone_hits)   \n",
       "6                   (peaklets, lone_hits)   \n",
       "7                   (peaklets, lone_hits)   \n",
       "8                   (peaklets, lone_hits)   \n",
       "9                   (peaklets, lone_hits)   \n",
       "10                  (peaklets, lone_hits)   \n",
       "11                  (peaklets, lone_hits)   \n",
       "12                  (peaklets, lone_hits)   \n",
       "13                  (peaklets, lone_hits)   \n",
       "14  (records, veto_regions, pulse_counts)   \n",
       "15  (records, veto_regions, pulse_counts)   \n",
       "16  (records, veto_regions, pulse_counts)   \n",
       "17  (records, veto_regions, pulse_counts)   \n",
       "18  (records, veto_regions, pulse_counts)   \n",
       "19  (records, veto_regions, pulse_counts)   \n",
       "20  (records, veto_regions, pulse_counts)   \n",
       "21  (records, veto_regions, pulse_counts)   \n",
       "22  (records, veto_regions, pulse_counts)   \n",
       "23  (records, veto_regions, pulse_counts)   \n",
       "24  (records, veto_regions, pulse_counts)   \n",
       "25  (records, veto_regions, pulse_counts)   \n",
       "26  (records, veto_regions, pulse_counts)   \n",
       "27                         (raw_records,)   \n",
       "28                         (raw_records,)   \n",
       "29                         (raw_records,)   \n",
       "30                         (raw_records,)   \n",
       "\n",
       "                                                 help  \n",
       "0        No hits for this many ns triggers a new peak  \n",
       "1          Include this many ns left of hits in peaks  \n",
       "2         Include this many ns right of hits in peaks  \n",
       "3   Minimum number of contributing PMTs needed to ...  \n",
       "4   Natural breaks goodness of fit/split threshold...  \n",
       "5   Wing width of moving average filter for low-sp...  \n",
       "6   Minimum area to evaluate natural breaks criter...  \n",
       "7      Maximum number of recursive peak splits to do.  \n",
       "8   Enable runtime checks for sorting and disjoint...  \n",
       "9   PMT gain model. Specify as (model_type, model_...  \n",
       "10  Time range left of peak center to call a hit a...  \n",
       "11  Time range right of peak center to call a hit ...  \n",
       "12                                 Number of TPC PMTs  \n",
       "13  Minimum hit amplitude in ADC counts above base...  \n",
       "14  PMT gain model used in the software high-energ...  \n",
       "15  Number of samples to use at the start of the p...  \n",
       "16  Minimum peakarea in PE to trigger tail veto.Se...  \n",
       "17               Time in ns to veto after large peaks  \n",
       "18  Time resolution in ns for pass-veto waveform s...  \n",
       "19  Pass veto if maximum amplitude above max * fra...  \n",
       "20  Extend pass veto by this many samples (tail_ve...  \n",
       "21  Linear filter to apply to pulses, will be norm...  \n",
       "22  Save (left, right) samples besides hits; cut t...  \n",
       "23                                 Number of TPC PMTs  \n",
       "24  Crash if any of the pulses in raw_records over...  \n",
       "25  Use a default baseline for incorrectly chunked...  \n",
       "26  Minimum hit amplitude in ADC counts above base...  \n",
       "27                    Directory with raw pax datasets  \n",
       "28         Convert only this many zip files. 0 = all.  \n",
       "29                Number of events to yield per chunk  \n",
       "30                       Number of samples per record  "
      ]
     },
     "execution_count": 9,
     "metadata": {},
     "output_type": "execute_result"
    }
   ],
   "source": [
    "st.show_config('peaklets')"
   ]
  },
  {
   "cell_type": "code",
   "execution_count": 10,
   "metadata": {},
   "outputs": [
    {
     "name": "stdout",
     "output_type": "stream",
     "text": [
      "[1.66 1.66 1.66 1.66 1.66 1.66 1.66 1.66 1.66 1.66 1.66 1.66 1.66 1.66\n",
      " 1.66 1.66 1.66 1.66 1.66 1.66 1.66 1.66 1.66 1.66 1.66 1.66 1.66 1.66\n",
      " 1.66 1.66 1.66 1.66 1.66 1.66 1.66 1.66 1.66 1.66 1.66 1.66 1.66 1.66\n",
      " 1.66 1.66 1.66 1.66 1.66 1.66 1.66 1.66 1.66 1.66 1.66 1.66 1.66 1.66\n",
      " 1.66 1.66 1.66 1.66 1.66 1.66 1.66 1.66 1.66 1.66 1.66 1.66 1.66 1.66\n",
      " 1.66 1.66 1.66 1.66 1.66 1.66 1.66 1.66 1.66 1.66 1.66 1.66 1.66 1.66\n",
      " 1.66 1.66 1.66 1.66 1.66 1.66 1.66 1.66 1.66 1.66 1.66 1.66 1.66 1.66\n",
      " 1.66 1.66 1.66 1.66 1.66 1.66 1.66 1.66 1.66 1.66 1.66 1.66 1.66 1.66\n",
      " 1.66 1.66 1.66 1.66 1.66 1.66 1.66 1.66 1.66 1.66 1.66 1.66 1.66 1.66\n",
      " 1.66 1.66 1.66 1.66 1.66 1.66 1.66 1.66 1.66 1.66 1.66 1.66 1.66 1.66\n",
      " 1.66 1.66 1.66 1.66 1.66 1.66 1.66 1.66 1.66 1.66 1.66 1.66 1.66 1.66\n",
      " 1.66 1.66 1.66 1.66 1.66 1.66 1.66 1.66 1.66 1.66 1.66 1.66 1.66 1.66\n",
      " 1.66 1.66 1.66 1.66 1.66 1.66 1.66 1.66 1.66 1.66 1.66 1.66 1.66 1.66\n",
      " 1.66 1.66 1.66 1.66 1.66 1.66 1.66 1.66 1.66 1.66 1.66 1.66 1.66 1.66\n",
      " 1.66 1.66 1.66 1.66 1.66 1.66 1.66 1.66 1.66 1.66 1.66 1.66 1.66 1.66\n",
      " 1.66 1.66 1.66 1.66 1.66 1.66 1.66 1.66 1.66 1.66 1.66 1.66 1.66 1.66\n",
      " 1.66 1.66 1.66 1.66 1.66 1.66 1.66 1.66 1.66 1.66 1.66 1.66 1.66 1.66\n",
      " 1.66 1.66 1.66 1.66 1.66 1.66 1.66 1.66 1.66 1.66]\n",
      "248\n"
     ]
    }
   ],
   "source": [
    "cte_gains= st.get_single_plugin('170204_1710', 'peaklets').to_pe\n",
    "print(cte_gains)\n",
    "print(len(cte_gains))"
   ]
  },
  {
   "cell_type": "markdown",
   "metadata": {},
   "source": [
    "#### Raise error if user provides wrong info in case of 'to_pe_constant' option"
   ]
  },
  {
   "cell_type": "code",
   "execution_count": 11,
   "metadata": {},
   "outputs": [],
   "source": [
    "st.set_config(dict(gain_model=('to_pe_constant','www',True)))"
   ]
  },
  {
   "cell_type": "code",
   "execution_count": 12,
   "metadata": {},
   "outputs": [
    {
     "ename": "ValueError",
     "evalue": "User specify a model type to_pe_constant and provide a <class 'str'> to be used",
     "output_type": "error",
     "traceback": [
      "\u001b[0;31m---------------------------------------------------------------------------\u001b[0m",
      "\u001b[0;31mValueError\u001b[0m                                Traceback (most recent call last)",
      "\u001b[0;32m<ipython-input-12-e7e10410ceca>\u001b[0m in \u001b[0;36m<module>\u001b[0;34m\u001b[0m\n\u001b[0;32m----> 1\u001b[0;31m \u001b[0mcte_gains\u001b[0m\u001b[0;34m=\u001b[0m \u001b[0mst\u001b[0m\u001b[0;34m.\u001b[0m\u001b[0mget_single_plugin\u001b[0m\u001b[0;34m(\u001b[0m\u001b[0;34m'170204_1710'\u001b[0m\u001b[0;34m,\u001b[0m \u001b[0;34m'peaklets'\u001b[0m\u001b[0;34m)\u001b[0m\u001b[0;34m.\u001b[0m\u001b[0mto_pe\u001b[0m\u001b[0;34m\u001b[0m\u001b[0;34m\u001b[0m\u001b[0m\n\u001b[0m\u001b[1;32m      2\u001b[0m \u001b[0mprint\u001b[0m\u001b[0;34m(\u001b[0m\u001b[0mcte_gains\u001b[0m\u001b[0;34m)\u001b[0m\u001b[0;34m\u001b[0m\u001b[0;34m\u001b[0m\u001b[0m\n\u001b[1;32m      3\u001b[0m \u001b[0mprint\u001b[0m\u001b[0;34m(\u001b[0m\u001b[0mlen\u001b[0m\u001b[0;34m(\u001b[0m\u001b[0mcte_gains\u001b[0m\u001b[0;34m)\u001b[0m\u001b[0;34m)\u001b[0m\u001b[0;34m\u001b[0m\u001b[0;34m\u001b[0m\u001b[0m\n",
      "\u001b[0;32m~/.conda/envs/corrections/lib/python3.6/site-packages/strax/context.py\u001b[0m in \u001b[0;36mget_single_plugin\u001b[0;34m(self, run_id, data_name)\u001b[0m\n\u001b[1;32m    383\u001b[0m         \u001b[0mplugin\u001b[0m \u001b[0;34m=\u001b[0m \u001b[0mself\u001b[0m\u001b[0;34m.\u001b[0m\u001b[0m_get_plugins\u001b[0m\u001b[0;34m(\u001b[0m\u001b[0;34m(\u001b[0m\u001b[0mdata_name\u001b[0m\u001b[0;34m,\u001b[0m\u001b[0;34m)\u001b[0m\u001b[0;34m,\u001b[0m \u001b[0mrun_id\u001b[0m\u001b[0;34m)\u001b[0m\u001b[0;34m[\u001b[0m\u001b[0mdata_name\u001b[0m\u001b[0;34m]\u001b[0m\u001b[0;34m\u001b[0m\u001b[0;34m\u001b[0m\u001b[0m\n\u001b[1;32m    384\u001b[0m         \u001b[0mself\u001b[0m\u001b[0;34m.\u001b[0m\u001b[0m_set_plugin_config\u001b[0m\u001b[0;34m(\u001b[0m\u001b[0mplugin\u001b[0m\u001b[0;34m,\u001b[0m \u001b[0mrun_id\u001b[0m\u001b[0;34m,\u001b[0m \u001b[0mtolerant\u001b[0m\u001b[0;34m=\u001b[0m\u001b[0;32mFalse\u001b[0m\u001b[0;34m)\u001b[0m\u001b[0;34m\u001b[0m\u001b[0;34m\u001b[0m\u001b[0m\n\u001b[0;32m--> 385\u001b[0;31m         \u001b[0mplugin\u001b[0m\u001b[0;34m.\u001b[0m\u001b[0msetup\u001b[0m\u001b[0;34m(\u001b[0m\u001b[0;34m)\u001b[0m\u001b[0;34m\u001b[0m\u001b[0;34m\u001b[0m\u001b[0m\n\u001b[0m\u001b[1;32m    386\u001b[0m         \u001b[0;32mreturn\u001b[0m \u001b[0mplugin\u001b[0m\u001b[0;34m\u001b[0m\u001b[0;34m\u001b[0m\u001b[0m\n\u001b[1;32m    387\u001b[0m \u001b[0;34m\u001b[0m\u001b[0m\n",
      "\u001b[0;32m~/.conda/envs/corrections/lib/python3.6/site-packages/straxen/plugins/peaklet_processing.py\u001b[0m in \u001b[0;36msetup\u001b[0;34m(self)\u001b[0m\n\u001b[1;32m     90\u001b[0m         \u001b[0mcmt\u001b[0m\u001b[0;34m=\u001b[0m\u001b[0mstraxen\u001b[0m\u001b[0;34m.\u001b[0m\u001b[0mCmtServices\u001b[0m\u001b[0;34m(\u001b[0m\u001b[0;34m)\u001b[0m\u001b[0;34m\u001b[0m\u001b[0;34m\u001b[0m\u001b[0m\n\u001b[1;32m     91\u001b[0m         self.to_pe = cmt.get_corrections_config(self.run_id,\n\u001b[0;32m---> 92\u001b[0;31m                                                 'pmt_gains', self.config['gain_model'])\n\u001b[0m\u001b[1;32m     93\u001b[0m \u001b[0;34m\u001b[0m\u001b[0m\n\u001b[1;32m     94\u001b[0m     \u001b[0;32mdef\u001b[0m \u001b[0mcompute\u001b[0m\u001b[0;34m(\u001b[0m\u001b[0mself\u001b[0m\u001b[0;34m,\u001b[0m \u001b[0mrecords\u001b[0m\u001b[0;34m,\u001b[0m \u001b[0mstart\u001b[0m\u001b[0;34m,\u001b[0m \u001b[0mend\u001b[0m\u001b[0;34m)\u001b[0m\u001b[0;34m:\u001b[0m\u001b[0;34m\u001b[0m\u001b[0;34m\u001b[0m\u001b[0m\n",
      "\u001b[0;32m~/.conda/envs/corrections/lib/python3.6/site-packages/straxen/corrections_services.py\u001b[0m in \u001b[0;36mget_corrections_config\u001b[0;34m(self, run_id, correction, config_model)\u001b[0m\n\u001b[1;32m    103\u001b[0m                 \u001b[0;32mif\u001b[0m \u001b[0mtype\u001b[0m\u001b[0;34m(\u001b[0m\u001b[0mglobal_version\u001b[0m\u001b[0;34m)\u001b[0m \u001b[0;34m!=\u001b[0m \u001b[0mfloat\u001b[0m \u001b[0;32mand\u001b[0m \u001b[0mtype\u001b[0m\u001b[0;34m(\u001b[0m\u001b[0mglobal_version\u001b[0m\u001b[0;34m)\u001b[0m \u001b[0;34m!=\u001b[0m \u001b[0mnp\u001b[0m\u001b[0;34m.\u001b[0m\u001b[0mndarray\u001b[0m\u001b[0;34m:\u001b[0m\u001b[0;34m\u001b[0m\u001b[0;34m\u001b[0m\u001b[0m\n\u001b[1;32m    104\u001b[0m                     raise ValueError(\n\u001b[0;32m--> 105\u001b[0;31m                             \u001b[0;34mf'User specify a model type {model_type} '\u001b[0m\u001b[0;34m\u001b[0m\u001b[0;34m\u001b[0m\u001b[0m\n\u001b[0m\u001b[1;32m    106\u001b[0m                             f'and provide a {type(global_version)} to be used')\n\u001b[1;32m    107\u001b[0m                 \u001b[0mcte_value\u001b[0m \u001b[0;34m=\u001b[0m \u001b[0mglobal_version\u001b[0m\u001b[0;34m\u001b[0m\u001b[0;34m\u001b[0m\u001b[0m\n",
      "\u001b[0;31mValueError\u001b[0m: User specify a model type to_pe_constant and provide a <class 'str'> to be used"
     ]
    }
   ],
   "source": [
    "cte_gains= st.get_single_plugin('170204_1710', 'peaklets').to_pe\n",
    "print(cte_gains)\n",
    "print(len(cte_gains))"
   ]
  },
  {
   "cell_type": "markdown",
   "metadata": {},
   "source": [
    "#### User can pass an array of pmt gains as in FIXED_TO_PE useful for Wsim"
   ]
  },
  {
   "cell_type": "code",
   "execution_count": 13,
   "metadata": {},
   "outputs": [],
   "source": [
    "import numpy as np\n",
    "n_gains = np.ones(248)"
   ]
  },
  {
   "cell_type": "code",
   "execution_count": 14,
   "metadata": {},
   "outputs": [],
   "source": [
    "st.set_config(dict(gain_model=('to_pe_constant',n_gains,True)))"
   ]
  },
  {
   "cell_type": "code",
   "execution_count": 15,
   "metadata": {},
   "outputs": [
    {
     "name": "stdout",
     "output_type": "stream",
     "text": [
      "[1. 1. 1. 1. 1. 1. 1. 1. 1. 1. 1. 1. 1. 1. 1. 1. 1. 1. 1. 1. 1. 1. 1. 1.\n",
      " 1. 1. 1. 1. 1. 1. 1. 1. 1. 1. 1. 1. 1. 1. 1. 1. 1. 1. 1. 1. 1. 1. 1. 1.\n",
      " 1. 1. 1. 1. 1. 1. 1. 1. 1. 1. 1. 1. 1. 1. 1. 1. 1. 1. 1. 1. 1. 1. 1. 1.\n",
      " 1. 1. 1. 1. 1. 1. 1. 1. 1. 1. 1. 1. 1. 1. 1. 1. 1. 1. 1. 1. 1. 1. 1. 1.\n",
      " 1. 1. 1. 1. 1. 1. 1. 1. 1. 1. 1. 1. 1. 1. 1. 1. 1. 1. 1. 1. 1. 1. 1. 1.\n",
      " 1. 1. 1. 1. 1. 1. 1. 1. 1. 1. 1. 1. 1. 1. 1. 1. 1. 1. 1. 1. 1. 1. 1. 1.\n",
      " 1. 1. 1. 1. 1. 1. 1. 1. 1. 1. 1. 1. 1. 1. 1. 1. 1. 1. 1. 1. 1. 1. 1. 1.\n",
      " 1. 1. 1. 1. 1. 1. 1. 1. 1. 1. 1. 1. 1. 1. 1. 1. 1. 1. 1. 1. 1. 1. 1. 1.\n",
      " 1. 1. 1. 1. 1. 1. 1. 1. 1. 1. 1. 1. 1. 1. 1. 1. 1. 1. 1. 1. 1. 1. 1. 1.\n",
      " 1. 1. 1. 1. 1. 1. 1. 1. 1. 1. 1. 1. 1. 1. 1. 1. 1. 1. 1. 1. 1. 1. 1. 1.\n",
      " 1. 1. 1. 1. 1. 1. 1. 1.]\n",
      "248\n"
     ]
    }
   ],
   "source": [
    "cte_gains= st.get_single_plugin('170204_1710', 'peaklets').to_pe\n",
    "print(cte_gains)\n",
    "print(len(cte_gains))"
   ]
  },
  {
   "cell_type": "markdown",
   "metadata": {},
   "source": [
    "#### XENONnT example"
   ]
  },
  {
   "cell_type": "code",
   "execution_count": 3,
   "metadata": {},
   "outputs": [],
   "source": [
    "st_online = straxen.contexts.xenonnt_online()"
   ]
  },
  {
   "cell_type": "code",
   "execution_count": 17,
   "metadata": {},
   "outputs": [],
   "source": [
    "st_online.set_config(dict(gain_model=('to_pe_constant',0.666,False)))"
   ]
  },
  {
   "cell_type": "code",
   "execution_count": 18,
   "metadata": {},
   "outputs": [
    {
     "name": "stdout",
     "output_type": "stream",
     "text": [
      "[0.666 0.666 0.666 0.666 0.666 0.666 0.666 0.666 0.666 0.666 0.666 0.666\n",
      " 0.666 0.666 0.666 0.666 0.666 0.666 0.666 0.666 0.666 0.666 0.666 0.666\n",
      " 0.666 0.666 0.666 0.666 0.666 0.666 0.666 0.666 0.666 0.666 0.666 0.666\n",
      " 0.666 0.666 0.666 0.666 0.666 0.666 0.666 0.666 0.666 0.666 0.666 0.666\n",
      " 0.666 0.666 0.666 0.666 0.666 0.666 0.666 0.666 0.666 0.666 0.666 0.666\n",
      " 0.666 0.666 0.666 0.666 0.666 0.666 0.666 0.666 0.666 0.666 0.666 0.666\n",
      " 0.666 0.666 0.666 0.666 0.666 0.666 0.666 0.666 0.666 0.666 0.666 0.666\n",
      " 0.666 0.666 0.666 0.666 0.666 0.666 0.666 0.666 0.666 0.666 0.666 0.666\n",
      " 0.666 0.666 0.666 0.666 0.666 0.666 0.666 0.666 0.666 0.666 0.666 0.666\n",
      " 0.666 0.666 0.666 0.666 0.666 0.666 0.666 0.666 0.666 0.666 0.666 0.666\n",
      " 0.666 0.666 0.666 0.666 0.666 0.666 0.666 0.666 0.666 0.666 0.666 0.666\n",
      " 0.666 0.666 0.666 0.666 0.666 0.666 0.666 0.666 0.666 0.666 0.666 0.666\n",
      " 0.666 0.666 0.666 0.666 0.666 0.666 0.666 0.666 0.666 0.666 0.666 0.666\n",
      " 0.666 0.666 0.666 0.666 0.666 0.666 0.666 0.666 0.666 0.666 0.666 0.666\n",
      " 0.666 0.666 0.666 0.666 0.666 0.666 0.666 0.666 0.666 0.666 0.666 0.666\n",
      " 0.666 0.666 0.666 0.666 0.666 0.666 0.666 0.666 0.666 0.666 0.666 0.666\n",
      " 0.666 0.666 0.666 0.666 0.666 0.666 0.666 0.666 0.666 0.666 0.666 0.666\n",
      " 0.666 0.666 0.666 0.666 0.666 0.666 0.666 0.666 0.666 0.666 0.666 0.666\n",
      " 0.666 0.666 0.666 0.666 0.666 0.666 0.666 0.666 0.666 0.666 0.666 0.666\n",
      " 0.666 0.666 0.666 0.666 0.666 0.666 0.666 0.666 0.666 0.666 0.666 0.666\n",
      " 0.666 0.666 0.666 0.666 0.666 0.666 0.666 0.666 0.666 0.666 0.666 0.666\n",
      " 0.666 0.666 0.666 0.666 0.666 0.666 0.666 0.666 0.666 0.666 0.666 0.666\n",
      " 0.666 0.666 0.666 0.666 0.666 0.666 0.666 0.666 0.666 0.666 0.666 0.666\n",
      " 0.666 0.666 0.666 0.666 0.666 0.666 0.666 0.666 0.666 0.666 0.666 0.666\n",
      " 0.666 0.666 0.666 0.666 0.666 0.666 0.666 0.666 0.666 0.666 0.666 0.666\n",
      " 0.666 0.666 0.666 0.666 0.666 0.666 0.666 0.666 0.666 0.666 0.666 0.666\n",
      " 0.666 0.666 0.666 0.666 0.666 0.666 0.666 0.666 0.666 0.666 0.666 0.666\n",
      " 0.666 0.666 0.666 0.666 0.666 0.666 0.666 0.666 0.666 0.666 0.666 0.666\n",
      " 0.666 0.666 0.666 0.666 0.666 0.666 0.666 0.666 0.666 0.666 0.666 0.666\n",
      " 0.666 0.666 0.666 0.666 0.666 0.666 0.666 0.666 0.666 0.666 0.666 0.666\n",
      " 0.666 0.666 0.666 0.666 0.666 0.666 0.666 0.666 0.666 0.666 0.666 0.666\n",
      " 0.666 0.666 0.666 0.666 0.666 0.666 0.666 0.666 0.666 0.666 0.666 0.666\n",
      " 0.666 0.666 0.666 0.666 0.666 0.666 0.666 0.666 0.666 0.666 0.666 0.666\n",
      " 0.666 0.666 0.666 0.666 0.666 0.666 0.666 0.666 0.666 0.666 0.666 0.666\n",
      " 0.666 0.666 0.666 0.666 0.666 0.666 0.666 0.666 0.666 0.666 0.666 0.666\n",
      " 0.666 0.666 0.666 0.666 0.666 0.666 0.666 0.666 0.666 0.666 0.666 0.666\n",
      " 0.666 0.666 0.666 0.666 0.666 0.666 0.666 0.666 0.666 0.666 0.666 0.666\n",
      " 0.666 0.666 0.666 0.666 0.666 0.666 0.666 0.666 0.666 0.666 0.666 0.666\n",
      " 0.666 0.666 0.666 0.666 0.666 0.666 0.666 0.666 0.666 0.666 0.666 0.666\n",
      " 0.666 0.666 0.666 0.666 0.666 0.666 0.666 0.666 0.666 0.666 0.666 0.666\n",
      " 0.666 0.666 0.666 0.666 0.666 0.666 0.666 0.666 0.666 0.666 0.666 0.666\n",
      " 0.666 0.666]\n",
      "494\n"
     ]
    }
   ],
   "source": [
    "cte_gains= st_online.get_single_plugin('007695', 'peaklets').to_pe\n",
    "print(cte_gains)\n",
    "print(len(cte_gains))"
   ]
  },
  {
   "cell_type": "markdown",
   "metadata": {},
   "source": [
    "#### Another example, xenon1t = False is the default option"
   ]
  },
  {
   "cell_type": "code",
   "execution_count": 19,
   "metadata": {},
   "outputs": [],
   "source": [
    "st_online.set_config(dict(gain_model=('to_pe_constant',0.555)))"
   ]
  },
  {
   "cell_type": "code",
   "execution_count": 20,
   "metadata": {},
   "outputs": [
    {
     "name": "stdout",
     "output_type": "stream",
     "text": [
      "[0.555 0.555 0.555 0.555 0.555 0.555 0.555 0.555 0.555 0.555 0.555 0.555\n",
      " 0.555 0.555 0.555 0.555 0.555 0.555 0.555 0.555 0.555 0.555 0.555 0.555\n",
      " 0.555 0.555 0.555 0.555 0.555 0.555 0.555 0.555 0.555 0.555 0.555 0.555\n",
      " 0.555 0.555 0.555 0.555 0.555 0.555 0.555 0.555 0.555 0.555 0.555 0.555\n",
      " 0.555 0.555 0.555 0.555 0.555 0.555 0.555 0.555 0.555 0.555 0.555 0.555\n",
      " 0.555 0.555 0.555 0.555 0.555 0.555 0.555 0.555 0.555 0.555 0.555 0.555\n",
      " 0.555 0.555 0.555 0.555 0.555 0.555 0.555 0.555 0.555 0.555 0.555 0.555\n",
      " 0.555 0.555 0.555 0.555 0.555 0.555 0.555 0.555 0.555 0.555 0.555 0.555\n",
      " 0.555 0.555 0.555 0.555 0.555 0.555 0.555 0.555 0.555 0.555 0.555 0.555\n",
      " 0.555 0.555 0.555 0.555 0.555 0.555 0.555 0.555 0.555 0.555 0.555 0.555\n",
      " 0.555 0.555 0.555 0.555 0.555 0.555 0.555 0.555 0.555 0.555 0.555 0.555\n",
      " 0.555 0.555 0.555 0.555 0.555 0.555 0.555 0.555 0.555 0.555 0.555 0.555\n",
      " 0.555 0.555 0.555 0.555 0.555 0.555 0.555 0.555 0.555 0.555 0.555 0.555\n",
      " 0.555 0.555 0.555 0.555 0.555 0.555 0.555 0.555 0.555 0.555 0.555 0.555\n",
      " 0.555 0.555 0.555 0.555 0.555 0.555 0.555 0.555 0.555 0.555 0.555 0.555\n",
      " 0.555 0.555 0.555 0.555 0.555 0.555 0.555 0.555 0.555 0.555 0.555 0.555\n",
      " 0.555 0.555 0.555 0.555 0.555 0.555 0.555 0.555 0.555 0.555 0.555 0.555\n",
      " 0.555 0.555 0.555 0.555 0.555 0.555 0.555 0.555 0.555 0.555 0.555 0.555\n",
      " 0.555 0.555 0.555 0.555 0.555 0.555 0.555 0.555 0.555 0.555 0.555 0.555\n",
      " 0.555 0.555 0.555 0.555 0.555 0.555 0.555 0.555 0.555 0.555 0.555 0.555\n",
      " 0.555 0.555 0.555 0.555 0.555 0.555 0.555 0.555 0.555 0.555 0.555 0.555\n",
      " 0.555 0.555 0.555 0.555 0.555 0.555 0.555 0.555 0.555 0.555 0.555 0.555\n",
      " 0.555 0.555 0.555 0.555 0.555 0.555 0.555 0.555 0.555 0.555 0.555 0.555\n",
      " 0.555 0.555 0.555 0.555 0.555 0.555 0.555 0.555 0.555 0.555 0.555 0.555\n",
      " 0.555 0.555 0.555 0.555 0.555 0.555 0.555 0.555 0.555 0.555 0.555 0.555\n",
      " 0.555 0.555 0.555 0.555 0.555 0.555 0.555 0.555 0.555 0.555 0.555 0.555\n",
      " 0.555 0.555 0.555 0.555 0.555 0.555 0.555 0.555 0.555 0.555 0.555 0.555\n",
      " 0.555 0.555 0.555 0.555 0.555 0.555 0.555 0.555 0.555 0.555 0.555 0.555\n",
      " 0.555 0.555 0.555 0.555 0.555 0.555 0.555 0.555 0.555 0.555 0.555 0.555\n",
      " 0.555 0.555 0.555 0.555 0.555 0.555 0.555 0.555 0.555 0.555 0.555 0.555\n",
      " 0.555 0.555 0.555 0.555 0.555 0.555 0.555 0.555 0.555 0.555 0.555 0.555\n",
      " 0.555 0.555 0.555 0.555 0.555 0.555 0.555 0.555 0.555 0.555 0.555 0.555\n",
      " 0.555 0.555 0.555 0.555 0.555 0.555 0.555 0.555 0.555 0.555 0.555 0.555\n",
      " 0.555 0.555 0.555 0.555 0.555 0.555 0.555 0.555 0.555 0.555 0.555 0.555\n",
      " 0.555 0.555 0.555 0.555 0.555 0.555 0.555 0.555 0.555 0.555 0.555 0.555\n",
      " 0.555 0.555 0.555 0.555 0.555 0.555 0.555 0.555 0.555 0.555 0.555 0.555\n",
      " 0.555 0.555 0.555 0.555 0.555 0.555 0.555 0.555 0.555 0.555 0.555 0.555\n",
      " 0.555 0.555 0.555 0.555 0.555 0.555 0.555 0.555 0.555 0.555 0.555 0.555\n",
      " 0.555 0.555 0.555 0.555 0.555 0.555 0.555 0.555 0.555 0.555 0.555 0.555\n",
      " 0.555 0.555 0.555 0.555 0.555 0.555 0.555 0.555 0.555 0.555 0.555 0.555\n",
      " 0.555 0.555 0.555 0.555 0.555 0.555 0.555 0.555 0.555 0.555 0.555 0.555\n",
      " 0.555 0.555]\n",
      "494\n"
     ]
    }
   ],
   "source": [
    "cte_gains= st_online.get_single_plugin('007700', 'peaklets').to_pe\n",
    "print(cte_gains)\n",
    "print(len(cte_gains))"
   ]
  },
  {
   "cell_type": "code",
   "execution_count": 21,
   "metadata": {},
   "outputs": [],
   "source": [
    "st_online.set_config(dict(gain_model=('to_pe_model','v1')))"
   ]
  },
  {
   "cell_type": "code",
   "execution_count": 22,
   "metadata": {},
   "outputs": [
    {
     "name": "stdout",
     "output_type": "stream",
     "text": [
      "[0.00207461 0.0029107  0.00409832 0.00475588 0.00213808 0.00974096\n",
      " 0.00188618 0.00214675 0.00254059 0.00221836 0.00182123 0.00203804\n",
      " 0.00610783 0.00177334 0.00200844 0.0118618  0.00228994 0.00250502\n",
      " 0.00305011 0.00399944 0.00195494 0.00492797 0.00251169 0.00217664\n",
      " 0.00297015 0.00186536 0.00215708 0.00152251 0.00719306 0.00492332\n",
      " 0.00254203 0.00240855 0.00299951 0.00708623 0.00302587 0.00299029\n",
      " 0.00175981 0.00171852 0.00189652 0.00193252 0.0042109  0.00253864\n",
      " 0.0036764  0.00432169 0.00357706 0.00318757 0.0038523  0.00217071\n",
      " 0.0032398  0.00298736 0.00189316 0.00239973 0.00246985 0.00158808\n",
      " 0.00249166 0.00489954 0.00252165 0.00281681 0.00274985 0.00177389\n",
      " 0.00443942 0.00722755 0.00236978 0.00344986 0.00206722 0.0035709\n",
      " 0.00291901 0.00188434 0.00210058 0.0037664  0.00168054 0.00197555\n",
      " 0.00289798 0.00222375 0.00346131 0.00293204 0.00559086 0.00582588\n",
      " 0.0033416  0.00291914 0.00411405 0.00269902 0.0018238  0.00432632\n",
      " 0.00177479 0.0025445  0.00243336 0.00254343 0.0025212  0.00184691\n",
      " 0.00269398 0.0028009  0.00229917 0.00250898 0.00279034 0.00232604\n",
      " 0.00296996 0.00442835 0.00297156 0.00236734 0.00259443 0.00208722\n",
      " 0.0036621  0.00199439 0.00258625 0.00174246 0.00335473 0.00234279\n",
      " 0.00196434 0.00216549 0.00311766 0.00184662 0.00422896 0.0035716\n",
      " 0.00244719 0.00174763 0.00849349 0.00273206 0.00254654 0.\n",
      " 0.00454832 0.00192276 0.00664512 0.00432231 0.00236163 0.00321041\n",
      " 0.0030322  0.00625071 0.00255317 0.00225165 0.00267959 0.00277974\n",
      " 0.00399427 0.00254476 0.00190286 0.00227405 0.00291818 0.00312194\n",
      " 0.00215603 0.00316055 0.00186673 0.00194424 0.00203835 0.00265442\n",
      " 0.00206511 0.00456921 0.00306752 0.00275909 0.00288123 0.00671013\n",
      " 0.00305884 0.00195156 0.01030461 0.00857982 0.00318612 0.00262547\n",
      " 0.00214641 0.00265465 0.00515364 0.00300632 0.00316912 0.00222791\n",
      " 0.00186174 0.00685007 0.00207308 0.00265831 0.0028844  0.00245529\n",
      " 0.00366945 0.00291875 0.00647984 0.00238226 0.00297448 0.00248181\n",
      " 0.00764995 0.00773014 0.00237891 0.00188297 0.0028657  0.00998629\n",
      " 0.0087295  0.00290312 0.00298995 0.00187719 0.00266731 0.00525275\n",
      " 0.00227025 0.00332043 0.00309229 0.00242413 0.00223372 0.00322246\n",
      " 0.00198379 0.00285761 0.00202584 0.00194914 0.00245252 0.00188094\n",
      " 0.00539171 0.00378916 0.00482136 0.00293452 0.00358814 0.00248913\n",
      " 0.00252899 0.00391121 0.00345499 0.00414235 0.00237273 0.00353039\n",
      " 0.00249177 0.00338179 0.00173382 0.00298247 0.00265118 0.00298912\n",
      " 0.0047135  0.00275849 0.00387119 0.0024882  0.00316828 0.00421772\n",
      " 0.00207136 0.00275504 0.00275493 0.00218287 0.0030013  0.0018441\n",
      " 0.00180685 0.00211385 0.0036083  0.0038802  0.00192897 0.00307787\n",
      " 0.00362102 0.00270379 0.00183601 0.00213917 0.00250048 0.0058514\n",
      " 0.00257685 0.00197466 0.00216008 0.00224918 0.00283622 0.00186063\n",
      " 0.00324832 0.00519279 0.00225697 0.0029807  0.00249095 0.0026112\n",
      " 0.0022981  0.00574709 0.00236502 0.00202651 0.00415644 0.00178051\n",
      " 0.00199314 0.0023711  0.00284583 0.00190401 0.00382177 0.00274877\n",
      " 0.00212304 0.00277771 0.00741594 0.00233999 0.00480067 0.00339809\n",
      " 0.00672808 0.00162233 0.00285755 0.00415803 0.00287012 0.00340134\n",
      " 0.0035897  0.00284684 0.00274119 0.00254483 0.00255267 0.00280869\n",
      " 0.00375241 0.00230164 0.00128941 0.00658459 0.00301988 0.00386119\n",
      " 0.00266645 0.00240701 0.00275899 0.00298973 0.00254563 0.00279967\n",
      " 0.00318003 0.0018984  0.00566469 0.00495911 0.006788   0.00200589\n",
      " 0.0027876  0.00283447 0.00869513 0.00325601 0.00182359 0.00334291\n",
      " 0.00943161 0.00252248 0.00921135 0.00272441 0.00530764 0.00298026\n",
      " 0.00173101 0.00242685 0.01113496 0.00270024 0.00229252 0.00239952\n",
      " 0.00272128 0.00298166 0.00476975 0.00394474 0.00312631 0.00562342\n",
      " 0.00231038 0.01261381 0.00161803 0.01109415 0.00330476 0.00650867\n",
      " 0.00363    0.00177207 0.00249733 0.00213214 0.00613946 0.00233564\n",
      " 0.00978817 0.00280906 0.01108711 0.00328686 0.00319886 0.00288431\n",
      " 0.00205951 0.00256446 0.00150947 0.00216702 0.00226349 0.00330008\n",
      " 0.00346651 0.00180145 0.00207233 0.00471495 0.00295213 0.00296647\n",
      " 0.         0.00288378 0.00192916 0.00838641 0.00179839 0.00307118\n",
      " 0.00230766 0.00196721 0.         0.00272362 0.00421726 0.00260263\n",
      " 0.00371309 0.00268235 0.00414431 0.00271493 0.00249306 0.01072619\n",
      " 0.00189211 0.00168985 0.00215872 0.00163002 0.01042346 0.00224074\n",
      " 0.00445142 0.00325887 0.00256758 0.00880817 0.00191724 0.00334189\n",
      " 0.00224247 0.0043963  0.         0.00449345 0.00247407 0.00435177\n",
      " 0.00214494 0.00906142 0.00297023 0.00204288 0.00512715 0.00212926\n",
      " 0.00240523 0.00270126 0.0016736  0.00460949 0.00173699 0.0066893\n",
      " 0.00166681 0.00234087 0.00581449 0.00401737 0.00179862 0.00306452\n",
      " 0.00334213 0.00173044 0.00195031 0.00268628 0.00208808 0.00276669\n",
      " 0.00415006 0.0018324  0.00155518 0.00298057 0.00266094 0.01097601\n",
      " 0.00255923 0.00306544 0.00218432 0.00156148 0.0018152  0.00201798\n",
      " 0.00152793 0.         0.00215066 0.00264473 0.00202196 0.0065668\n",
      " 0.00505782 0.00318701 0.00370188 0.00241626 0.00185007 0.0025341\n",
      " 0.01066607 0.00413557 0.00280621 0.00180943 0.00275477 0.00274977\n",
      " 0.01180825 0.00286092 0.00320736 0.00201716 0.00887424 0.00237515\n",
      " 0.00386538 0.00404078 0.00165821 0.00151023 0.00222311 0.00415995\n",
      " 0.00261229 0.00835757 0.00202707 0.00210726 0.00219968 0.00244063\n",
      " 0.00239933 0.00462007 0.00212497 0.00432448 0.0024138  0.00266211\n",
      " 0.00298544 0.0020675  0.00393944 0.00303465 0.00245721 0.00269456\n",
      " 0.00291505 0.00353875 0.00373246 0.00389729 0.00254397 0.00810636\n",
      " 0.00215208 0.00247226 0.00946268 0.00258507 0.00235694 0.00272195\n",
      " 0.00396865 0.0025034  0.00311279 0.00914527 0.00223112 0.00206736\n",
      " 0.00455591 0.00919585]\n",
      "494\n"
     ]
    }
   ],
   "source": [
    "cte_gains= st_online.get_single_plugin('008900', 'peaklets').to_pe\n",
    "print(cte_gains)\n",
    "print(len(cte_gains))"
   ]
  },
  {
   "cell_type": "markdown",
   "metadata": {},
   "source": [
    "#### For early runs we will raise an error since data from gain model is not avaialbe "
   ]
  },
  {
   "cell_type": "code",
   "execution_count": 23,
   "metadata": {},
   "outputs": [
    {
     "ename": "ValueError",
     "evalue": "to_pe(PMT gains) values are NaN, no data available for 005900 in the gain model with version v1, please set a cte values for 005900",
     "output_type": "error",
     "traceback": [
      "\u001b[0;31m---------------------------------------------------------------------------\u001b[0m",
      "\u001b[0;31mValueError\u001b[0m                                Traceback (most recent call last)",
      "\u001b[0;32m<ipython-input-23-5325a564c7cd>\u001b[0m in \u001b[0;36m<module>\u001b[0;34m\u001b[0m\n\u001b[0;32m----> 1\u001b[0;31m \u001b[0mcte_gains\u001b[0m\u001b[0;34m=\u001b[0m \u001b[0mst_online\u001b[0m\u001b[0;34m.\u001b[0m\u001b[0mget_single_plugin\u001b[0m\u001b[0;34m(\u001b[0m\u001b[0;34m'005900'\u001b[0m\u001b[0;34m,\u001b[0m \u001b[0;34m'peaklets'\u001b[0m\u001b[0;34m)\u001b[0m\u001b[0;34m.\u001b[0m\u001b[0mto_pe\u001b[0m\u001b[0;34m\u001b[0m\u001b[0;34m\u001b[0m\u001b[0m\n\u001b[0m\u001b[1;32m      2\u001b[0m \u001b[0mprint\u001b[0m\u001b[0;34m(\u001b[0m\u001b[0mcte_gains\u001b[0m\u001b[0;34m)\u001b[0m\u001b[0;34m\u001b[0m\u001b[0;34m\u001b[0m\u001b[0m\n\u001b[1;32m      3\u001b[0m \u001b[0mprint\u001b[0m\u001b[0;34m(\u001b[0m\u001b[0mlen\u001b[0m\u001b[0;34m(\u001b[0m\u001b[0mcte_gains\u001b[0m\u001b[0;34m)\u001b[0m\u001b[0;34m)\u001b[0m\u001b[0;34m\u001b[0m\u001b[0;34m\u001b[0m\u001b[0m\n",
      "\u001b[0;32m~/.conda/envs/corrections/lib/python3.6/site-packages/strax/context.py\u001b[0m in \u001b[0;36mget_single_plugin\u001b[0;34m(self, run_id, data_name)\u001b[0m\n\u001b[1;32m    383\u001b[0m         \u001b[0mplugin\u001b[0m \u001b[0;34m=\u001b[0m \u001b[0mself\u001b[0m\u001b[0;34m.\u001b[0m\u001b[0m_get_plugins\u001b[0m\u001b[0;34m(\u001b[0m\u001b[0;34m(\u001b[0m\u001b[0mdata_name\u001b[0m\u001b[0;34m,\u001b[0m\u001b[0;34m)\u001b[0m\u001b[0;34m,\u001b[0m \u001b[0mrun_id\u001b[0m\u001b[0;34m)\u001b[0m\u001b[0;34m[\u001b[0m\u001b[0mdata_name\u001b[0m\u001b[0;34m]\u001b[0m\u001b[0;34m\u001b[0m\u001b[0;34m\u001b[0m\u001b[0m\n\u001b[1;32m    384\u001b[0m         \u001b[0mself\u001b[0m\u001b[0;34m.\u001b[0m\u001b[0m_set_plugin_config\u001b[0m\u001b[0;34m(\u001b[0m\u001b[0mplugin\u001b[0m\u001b[0;34m,\u001b[0m \u001b[0mrun_id\u001b[0m\u001b[0;34m,\u001b[0m \u001b[0mtolerant\u001b[0m\u001b[0;34m=\u001b[0m\u001b[0;32mFalse\u001b[0m\u001b[0;34m)\u001b[0m\u001b[0;34m\u001b[0m\u001b[0;34m\u001b[0m\u001b[0m\n\u001b[0;32m--> 385\u001b[0;31m         \u001b[0mplugin\u001b[0m\u001b[0;34m.\u001b[0m\u001b[0msetup\u001b[0m\u001b[0;34m(\u001b[0m\u001b[0;34m)\u001b[0m\u001b[0;34m\u001b[0m\u001b[0;34m\u001b[0m\u001b[0m\n\u001b[0m\u001b[1;32m    386\u001b[0m         \u001b[0;32mreturn\u001b[0m \u001b[0mplugin\u001b[0m\u001b[0;34m\u001b[0m\u001b[0;34m\u001b[0m\u001b[0m\n\u001b[1;32m    387\u001b[0m \u001b[0;34m\u001b[0m\u001b[0m\n",
      "\u001b[0;32m~/.conda/envs/corrections/lib/python3.6/site-packages/straxen/plugins/peaklet_processing.py\u001b[0m in \u001b[0;36msetup\u001b[0;34m(self)\u001b[0m\n\u001b[1;32m     90\u001b[0m         \u001b[0mcmt\u001b[0m\u001b[0;34m=\u001b[0m\u001b[0mstraxen\u001b[0m\u001b[0;34m.\u001b[0m\u001b[0mCmtServices\u001b[0m\u001b[0;34m(\u001b[0m\u001b[0;34m)\u001b[0m\u001b[0;34m\u001b[0m\u001b[0;34m\u001b[0m\u001b[0m\n\u001b[1;32m     91\u001b[0m         self.to_pe = cmt.get_corrections_config(self.run_id,\n\u001b[0;32m---> 92\u001b[0;31m                                                 'pmt_gains', self.config['gain_model'])\n\u001b[0m\u001b[1;32m     93\u001b[0m \u001b[0;34m\u001b[0m\u001b[0m\n\u001b[1;32m     94\u001b[0m     \u001b[0;32mdef\u001b[0m \u001b[0mcompute\u001b[0m\u001b[0;34m(\u001b[0m\u001b[0mself\u001b[0m\u001b[0;34m,\u001b[0m \u001b[0mrecords\u001b[0m\u001b[0;34m,\u001b[0m \u001b[0mstart\u001b[0m\u001b[0;34m,\u001b[0m \u001b[0mend\u001b[0m\u001b[0;34m)\u001b[0m\u001b[0;34m:\u001b[0m\u001b[0;34m\u001b[0m\u001b[0;34m\u001b[0m\u001b[0m\n",
      "\u001b[0;32m~/.conda/envs/corrections/lib/python3.6/site-packages/straxen/corrections_services.py\u001b[0m in \u001b[0;36mget_corrections_config\u001b[0;34m(self, run_id, correction, config_model)\u001b[0m\n\u001b[1;32m     94\u001b[0m         \u001b[0;32mif\u001b[0m \u001b[0mcorrection\u001b[0m \u001b[0;34m==\u001b[0m \u001b[0;34m'pmt_gains'\u001b[0m\u001b[0;34m:\u001b[0m\u001b[0;34m\u001b[0m\u001b[0;34m\u001b[0m\u001b[0m\n\u001b[1;32m     95\u001b[0m             \u001b[0;32mif\u001b[0m \u001b[0mmodel_type\u001b[0m \u001b[0;34m==\u001b[0m \u001b[0;34m'to_pe_model'\u001b[0m\u001b[0;34m:\u001b[0m\u001b[0;34m\u001b[0m\u001b[0;34m\u001b[0m\u001b[0m\n\u001b[0;32m---> 96\u001b[0;31m                 \u001b[0mto_pe\u001b[0m \u001b[0;34m=\u001b[0m \u001b[0mself\u001b[0m\u001b[0;34m.\u001b[0m\u001b[0mget_pmt_gains\u001b[0m\u001b[0;34m(\u001b[0m\u001b[0mrun_id\u001b[0m\u001b[0;34m,\u001b[0m \u001b[0mglobal_version\u001b[0m\u001b[0;34m,\u001b[0m \u001b[0mxenon1t\u001b[0m\u001b[0;34m)\u001b[0m\u001b[0;34m\u001b[0m\u001b[0;34m\u001b[0m\u001b[0m\n\u001b[0m\u001b[1;32m     97\u001b[0m                 \u001b[0;32mreturn\u001b[0m \u001b[0mto_pe\u001b[0m\u001b[0;34m\u001b[0m\u001b[0;34m\u001b[0m\u001b[0m\n\u001b[1;32m     98\u001b[0m \u001b[0;34m\u001b[0m\u001b[0m\n",
      "\u001b[0;32m~/.conda/envs/corrections/lib/python3.6/site-packages/straxen/corrections_services.py\u001b[0m in \u001b[0;36mget_pmt_gains\u001b[0;34m(self, run_id, global_version, xenon1t)\u001b[0m\n\u001b[1;32m    176\u001b[0m         \u001b[0mtest\u001b[0m \u001b[0;34m=\u001b[0m \u001b[0mnp\u001b[0m\u001b[0;34m.\u001b[0m\u001b[0misnan\u001b[0m\u001b[0;34m(\u001b[0m\u001b[0mpmt_gains\u001b[0m\u001b[0;34m)\u001b[0m\u001b[0;34m\u001b[0m\u001b[0;34m\u001b[0m\u001b[0m\n\u001b[1;32m    177\u001b[0m         \u001b[0;32mif\u001b[0m \u001b[0mtest\u001b[0m\u001b[0;34m.\u001b[0m\u001b[0mall\u001b[0m\u001b[0;34m(\u001b[0m\u001b[0;34m)\u001b[0m\u001b[0;34m:\u001b[0m\u001b[0;34m\u001b[0m\u001b[0;34m\u001b[0m\u001b[0m\n\u001b[0;32m--> 178\u001b[0;31m             raise ValueError(f'to_pe(PMT gains) values are NaN, no data available'\n\u001b[0m\u001b[1;32m    179\u001b[0m                              \u001b[0;34mf' for {run_id} in the gain model with version {global_version},'\u001b[0m\u001b[0;34m\u001b[0m\u001b[0;34m\u001b[0m\u001b[0m\n\u001b[1;32m    180\u001b[0m                              f' please set a cte values for {run_id}')\n",
      "\u001b[0;31mValueError\u001b[0m: to_pe(PMT gains) values are NaN, no data available for 005900 in the gain model with version v1, please set a cte values for 005900"
     ]
    }
   ],
   "source": [
    "cte_gains= st_online.get_single_plugin('005900', 'peaklets').to_pe\n",
    "print(cte_gains)\n",
    "print(len(cte_gains))"
   ]
  },
  {
   "cell_type": "markdown",
   "metadata": {},
   "source": [
    "#### If for some reason user mistype a runID it would raise an error"
   ]
  },
  {
   "cell_type": "code",
   "execution_count": 24,
   "metadata": {},
   "outputs": [
    {
     "ename": "ValueError",
     "evalue": "run_id = 1702041710 not found",
     "output_type": "error",
     "traceback": [
      "\u001b[0;31m---------------------------------------------------------------------------\u001b[0m",
      "\u001b[0;31mValueError\u001b[0m                                Traceback (most recent call last)",
      "\u001b[0;32m<ipython-input-24-cd2c773b4956>\u001b[0m in \u001b[0;36m<module>\u001b[0;34m\u001b[0m\n\u001b[0;32m----> 1\u001b[0;31m \u001b[0mcte_gains\u001b[0m\u001b[0;34m=\u001b[0m \u001b[0mst_online\u001b[0m\u001b[0;34m.\u001b[0m\u001b[0mget_single_plugin\u001b[0m\u001b[0;34m(\u001b[0m\u001b[0;34m'170204_1710'\u001b[0m\u001b[0;34m,\u001b[0m \u001b[0;34m'peaklets'\u001b[0m\u001b[0;34m)\u001b[0m\u001b[0;34m.\u001b[0m\u001b[0mto_pe\u001b[0m\u001b[0;34m\u001b[0m\u001b[0;34m\u001b[0m\u001b[0m\n\u001b[0m\u001b[1;32m      2\u001b[0m \u001b[0mprint\u001b[0m\u001b[0;34m(\u001b[0m\u001b[0mcte_gains\u001b[0m\u001b[0;34m)\u001b[0m\u001b[0;34m\u001b[0m\u001b[0;34m\u001b[0m\u001b[0m\n\u001b[1;32m      3\u001b[0m \u001b[0mprint\u001b[0m\u001b[0;34m(\u001b[0m\u001b[0mlen\u001b[0m\u001b[0;34m(\u001b[0m\u001b[0mcte_gains\u001b[0m\u001b[0;34m)\u001b[0m\u001b[0;34m)\u001b[0m\u001b[0;34m\u001b[0m\u001b[0;34m\u001b[0m\u001b[0m\n",
      "\u001b[0;32m~/.conda/envs/corrections/lib/python3.6/site-packages/strax/context.py\u001b[0m in \u001b[0;36mget_single_plugin\u001b[0;34m(self, run_id, data_name)\u001b[0m\n\u001b[1;32m    383\u001b[0m         \u001b[0mplugin\u001b[0m \u001b[0;34m=\u001b[0m \u001b[0mself\u001b[0m\u001b[0;34m.\u001b[0m\u001b[0m_get_plugins\u001b[0m\u001b[0;34m(\u001b[0m\u001b[0;34m(\u001b[0m\u001b[0mdata_name\u001b[0m\u001b[0;34m,\u001b[0m\u001b[0;34m)\u001b[0m\u001b[0;34m,\u001b[0m \u001b[0mrun_id\u001b[0m\u001b[0;34m)\u001b[0m\u001b[0;34m[\u001b[0m\u001b[0mdata_name\u001b[0m\u001b[0;34m]\u001b[0m\u001b[0;34m\u001b[0m\u001b[0;34m\u001b[0m\u001b[0m\n\u001b[1;32m    384\u001b[0m         \u001b[0mself\u001b[0m\u001b[0;34m.\u001b[0m\u001b[0m_set_plugin_config\u001b[0m\u001b[0;34m(\u001b[0m\u001b[0mplugin\u001b[0m\u001b[0;34m,\u001b[0m \u001b[0mrun_id\u001b[0m\u001b[0;34m,\u001b[0m \u001b[0mtolerant\u001b[0m\u001b[0;34m=\u001b[0m\u001b[0;32mFalse\u001b[0m\u001b[0;34m)\u001b[0m\u001b[0;34m\u001b[0m\u001b[0;34m\u001b[0m\u001b[0m\n\u001b[0;32m--> 385\u001b[0;31m         \u001b[0mplugin\u001b[0m\u001b[0;34m.\u001b[0m\u001b[0msetup\u001b[0m\u001b[0;34m(\u001b[0m\u001b[0;34m)\u001b[0m\u001b[0;34m\u001b[0m\u001b[0;34m\u001b[0m\u001b[0m\n\u001b[0m\u001b[1;32m    386\u001b[0m         \u001b[0;32mreturn\u001b[0m \u001b[0mplugin\u001b[0m\u001b[0;34m\u001b[0m\u001b[0;34m\u001b[0m\u001b[0m\n\u001b[1;32m    387\u001b[0m \u001b[0;34m\u001b[0m\u001b[0m\n",
      "\u001b[0;32m~/.conda/envs/corrections/lib/python3.6/site-packages/straxen/plugins/peaklet_processing.py\u001b[0m in \u001b[0;36msetup\u001b[0;34m(self)\u001b[0m\n\u001b[1;32m     90\u001b[0m         \u001b[0mcmt\u001b[0m\u001b[0;34m=\u001b[0m\u001b[0mstraxen\u001b[0m\u001b[0;34m.\u001b[0m\u001b[0mCmtServices\u001b[0m\u001b[0;34m(\u001b[0m\u001b[0;34m)\u001b[0m\u001b[0;34m\u001b[0m\u001b[0;34m\u001b[0m\u001b[0m\n\u001b[1;32m     91\u001b[0m         self.to_pe = cmt.get_corrections_config(self.run_id,\n\u001b[0;32m---> 92\u001b[0;31m                                                 'pmt_gains', self.config['gain_model'])\n\u001b[0m\u001b[1;32m     93\u001b[0m \u001b[0;34m\u001b[0m\u001b[0m\n\u001b[1;32m     94\u001b[0m     \u001b[0;32mdef\u001b[0m \u001b[0mcompute\u001b[0m\u001b[0;34m(\u001b[0m\u001b[0mself\u001b[0m\u001b[0;34m,\u001b[0m \u001b[0mrecords\u001b[0m\u001b[0;34m,\u001b[0m \u001b[0mstart\u001b[0m\u001b[0;34m,\u001b[0m \u001b[0mend\u001b[0m\u001b[0;34m)\u001b[0m\u001b[0;34m:\u001b[0m\u001b[0;34m\u001b[0m\u001b[0;34m\u001b[0m\u001b[0m\n",
      "\u001b[0;32m~/.conda/envs/corrections/lib/python3.6/site-packages/straxen/corrections_services.py\u001b[0m in \u001b[0;36mget_corrections_config\u001b[0;34m(self, run_id, correction, config_model)\u001b[0m\n\u001b[1;32m     94\u001b[0m         \u001b[0;32mif\u001b[0m \u001b[0mcorrection\u001b[0m \u001b[0;34m==\u001b[0m \u001b[0;34m'pmt_gains'\u001b[0m\u001b[0;34m:\u001b[0m\u001b[0;34m\u001b[0m\u001b[0;34m\u001b[0m\u001b[0m\n\u001b[1;32m     95\u001b[0m             \u001b[0;32mif\u001b[0m \u001b[0mmodel_type\u001b[0m \u001b[0;34m==\u001b[0m \u001b[0;34m'to_pe_model'\u001b[0m\u001b[0;34m:\u001b[0m\u001b[0;34m\u001b[0m\u001b[0;34m\u001b[0m\u001b[0m\n\u001b[0;32m---> 96\u001b[0;31m                 \u001b[0mto_pe\u001b[0m \u001b[0;34m=\u001b[0m \u001b[0mself\u001b[0m\u001b[0;34m.\u001b[0m\u001b[0mget_pmt_gains\u001b[0m\u001b[0;34m(\u001b[0m\u001b[0mrun_id\u001b[0m\u001b[0;34m,\u001b[0m \u001b[0mglobal_version\u001b[0m\u001b[0;34m,\u001b[0m \u001b[0mxenon1t\u001b[0m\u001b[0;34m)\u001b[0m\u001b[0;34m\u001b[0m\u001b[0;34m\u001b[0m\u001b[0m\n\u001b[0m\u001b[1;32m     97\u001b[0m                 \u001b[0;32mreturn\u001b[0m \u001b[0mto_pe\u001b[0m\u001b[0;34m\u001b[0m\u001b[0;34m\u001b[0m\u001b[0m\n\u001b[1;32m     98\u001b[0m \u001b[0;34m\u001b[0m\u001b[0m\n",
      "\u001b[0;32m~/.conda/envs/corrections/lib/python3.6/site-packages/straxen/corrections_services.py\u001b[0m in \u001b[0;36mget_pmt_gains\u001b[0;34m(self, run_id, global_version, xenon1t)\u001b[0m\n\u001b[1;32m    156\u001b[0m         \u001b[0;34m:\u001b[0m\u001b[0;32mreturn\u001b[0m\u001b[0;34m:\u001b[0m \u001b[0marray\u001b[0m \u001b[0mof\u001b[0m \u001b[0mpmt\u001b[0m \u001b[0mgains\u001b[0m \u001b[0mto\u001b[0m \u001b[0mPE\u001b[0m \u001b[0mvalues\u001b[0m\u001b[0;34m\u001b[0m\u001b[0;34m\u001b[0m\u001b[0m\n\u001b[1;32m    157\u001b[0m         \"\"\"\n\u001b[0;32m--> 158\u001b[0;31m         \u001b[0mwhen\u001b[0m \u001b[0;34m=\u001b[0m \u001b[0mself\u001b[0m\u001b[0;34m.\u001b[0m\u001b[0mget_time\u001b[0m\u001b[0;34m(\u001b[0m\u001b[0mrun_id\u001b[0m\u001b[0;34m,\u001b[0m \u001b[0mxenon1t\u001b[0m\u001b[0;34m)\u001b[0m\u001b[0;34m\u001b[0m\u001b[0;34m\u001b[0m\u001b[0m\n\u001b[0m\u001b[1;32m    159\u001b[0m         \u001b[0;32mif\u001b[0m \u001b[0mxenon1t\u001b[0m\u001b[0;34m:\u001b[0m\u001b[0;34m\u001b[0m\u001b[0;34m\u001b[0m\u001b[0m\n\u001b[1;32m    160\u001b[0m             \u001b[0mdf_global\u001b[0m \u001b[0;34m=\u001b[0m \u001b[0mself\u001b[0m\u001b[0;34m.\u001b[0m\u001b[0minterface\u001b[0m\u001b[0;34m.\u001b[0m\u001b[0mread\u001b[0m\u001b[0;34m(\u001b[0m\u001b[0;34m'global_xenon1t'\u001b[0m\u001b[0;34m)\u001b[0m\u001b[0;34m\u001b[0m\u001b[0;34m\u001b[0m\u001b[0m\n",
      "\u001b[0;32m~/.conda/envs/corrections/lib/python3.6/site-packages/straxen/corrections_services.py\u001b[0m in \u001b[0;36mget_time\u001b[0;34m(self, run_id, xenon1t)\u001b[0m\n\u001b[1;32m    219\u001b[0m                 {'start': 1})\n\u001b[1;32m    220\u001b[0m         \u001b[0;32mif\u001b[0m \u001b[0mrundoc\u001b[0m \u001b[0;32mis\u001b[0m \u001b[0;32mNone\u001b[0m\u001b[0;34m:\u001b[0m\u001b[0;34m\u001b[0m\u001b[0;34m\u001b[0m\u001b[0m\n\u001b[0;32m--> 221\u001b[0;31m             \u001b[0;32mraise\u001b[0m \u001b[0mValueError\u001b[0m\u001b[0;34m(\u001b[0m\u001b[0;34mf'run_id = {run_id} not found'\u001b[0m\u001b[0;34m)\u001b[0m\u001b[0;34m\u001b[0m\u001b[0;34m\u001b[0m\u001b[0m\n\u001b[0m\u001b[1;32m    222\u001b[0m         \u001b[0mtime\u001b[0m \u001b[0;34m=\u001b[0m \u001b[0mrundoc\u001b[0m\u001b[0;34m[\u001b[0m\u001b[0;34m'start'\u001b[0m\u001b[0;34m]\u001b[0m\u001b[0;34m\u001b[0m\u001b[0;34m\u001b[0m\u001b[0m\n\u001b[1;32m    223\u001b[0m         \u001b[0;32mreturn\u001b[0m \u001b[0mtime\u001b[0m\u001b[0;34m.\u001b[0m\u001b[0mreplace\u001b[0m\u001b[0;34m(\u001b[0m\u001b[0mtzinfo\u001b[0m\u001b[0;34m=\u001b[0m\u001b[0mpytz\u001b[0m\u001b[0;34m.\u001b[0m\u001b[0mutc\u001b[0m\u001b[0;34m)\u001b[0m\u001b[0;34m\u001b[0m\u001b[0;34m\u001b[0m\u001b[0m\n",
      "\u001b[0;31mValueError\u001b[0m: run_id = 1702041710 not found"
     ]
    }
   ],
   "source": [
    "cte_gains= st_online.get_single_plugin('170204_1710', 'peaklets').to_pe\n",
    "print(cte_gains)\n",
    "print(len(cte_gains))"
   ]
  },
  {
   "cell_type": "markdown",
   "metadata": {},
   "source": [
    "#### More on the electron lifetime"
   ]
  },
  {
   "cell_type": "code",
   "execution_count": 5,
   "metadata": {},
   "outputs": [
    {
     "data": {
      "text/html": [
       "<div>\n",
       "<style scoped>\n",
       "    .dataframe tbody tr th:only-of-type {\n",
       "        vertical-align: middle;\n",
       "    }\n",
       "\n",
       "    .dataframe tbody tr th {\n",
       "        vertical-align: top;\n",
       "    }\n",
       "\n",
       "    .dataframe thead th {\n",
       "        text-align: right;\n",
       "    }\n",
       "</style>\n",
       "<table border=\"1\" class=\"dataframe\">\n",
       "  <thead>\n",
       "    <tr style=\"text-align: right;\">\n",
       "      <th></th>\n",
       "      <th>option</th>\n",
       "      <th>default</th>\n",
       "      <th>current</th>\n",
       "      <th>applies_to</th>\n",
       "      <th>help</th>\n",
       "    </tr>\n",
       "  </thead>\n",
       "  <tbody>\n",
       "    <tr>\n",
       "      <th>0</th>\n",
       "      <td>trigger_min_area</td>\n",
       "      <td>100</td>\n",
       "      <td>&lt;OMITTED&gt;</td>\n",
       "      <td>(events,)</td>\n",
       "      <td>Peaks must have more area (PE) than this to ca...</td>\n",
       "    </tr>\n",
       "    <tr>\n",
       "      <th>1</th>\n",
       "      <td>trigger_max_competing</td>\n",
       "      <td>7</td>\n",
       "      <td>&lt;OMITTED&gt;</td>\n",
       "      <td>(events,)</td>\n",
       "      <td>Peaks must have FEWER nearby larger or slightl...</td>\n",
       "    </tr>\n",
       "    <tr>\n",
       "      <th>2</th>\n",
       "      <td>left_event_extension</td>\n",
       "      <td>1000000</td>\n",
       "      <td>&lt;OMITTED&gt;</td>\n",
       "      <td>(events,)</td>\n",
       "      <td>Extend events this many ns to the left from ea...</td>\n",
       "    </tr>\n",
       "    <tr>\n",
       "      <th>3</th>\n",
       "      <td>right_event_extension</td>\n",
       "      <td>1000000</td>\n",
       "      <td>&lt;OMITTED&gt;</td>\n",
       "      <td>(events,)</td>\n",
       "      <td>Extend events this many ns to the right from e...</td>\n",
       "    </tr>\n",
       "    <tr>\n",
       "      <th>4</th>\n",
       "      <td>n_top_pmts</td>\n",
       "      <td>253</td>\n",
       "      <td>127</td>\n",
       "      <td>(peak_basics,)</td>\n",
       "      <td>Number of top PMTs</td>\n",
       "    </tr>\n",
       "    <tr>\n",
       "      <th>...</th>\n",
       "      <td>...</td>\n",
       "      <td>...</td>\n",
       "      <td>...</td>\n",
       "      <td>...</td>\n",
       "      <td>...</td>\n",
       "    </tr>\n",
       "    <tr>\n",
       "      <th>56</th>\n",
       "      <td>s2_relative_lce_map</td>\n",
       "      <td>https://raw.githubusercontent.com/XENON1T/pax/...</td>\n",
       "      <td>&lt;OMITTED&gt;</td>\n",
       "      <td>(corrected_areas,)</td>\n",
       "      <td>S2 relative LCE(x, y) map</td>\n",
       "    </tr>\n",
       "    <tr>\n",
       "      <th>57</th>\n",
       "      <td>elife_model</td>\n",
       "      <td>&lt;OMITTED&gt;</td>\n",
       "      <td>&lt;OMITTED&gt;</td>\n",
       "      <td>(corrected_areas,)</td>\n",
       "      <td>electron lifetime modelSpecify as (model_type,...</td>\n",
       "    </tr>\n",
       "    <tr>\n",
       "      <th>58</th>\n",
       "      <td>g1</td>\n",
       "      <td>0.1426</td>\n",
       "      <td>&lt;OMITTED&gt;</td>\n",
       "      <td>(energy_estimates,)</td>\n",
       "      <td>S1 gain in PE / photons produced</td>\n",
       "    </tr>\n",
       "    <tr>\n",
       "      <th>59</th>\n",
       "      <td>g2</td>\n",
       "      <td>31.2162</td>\n",
       "      <td>&lt;OMITTED&gt;</td>\n",
       "      <td>(energy_estimates,)</td>\n",
       "      <td>S2 gain in PE / electrons produced</td>\n",
       "    </tr>\n",
       "    <tr>\n",
       "      <th>60</th>\n",
       "      <td>lxe_w</td>\n",
       "      <td>0.0137</td>\n",
       "      <td>&lt;OMITTED&gt;</td>\n",
       "      <td>(energy_estimates,)</td>\n",
       "      <td>LXe work function in quanta/keV</td>\n",
       "    </tr>\n",
       "  </tbody>\n",
       "</table>\n",
       "<p>61 rows × 5 columns</p>\n",
       "</div>"
      ],
      "text/plain": [
       "                   option                                            default  \\\n",
       "0        trigger_min_area                                                100   \n",
       "1   trigger_max_competing                                                  7   \n",
       "2    left_event_extension                                            1000000   \n",
       "3   right_event_extension                                            1000000   \n",
       "4              n_top_pmts                                                253   \n",
       "..                    ...                                                ...   \n",
       "56    s2_relative_lce_map  https://raw.githubusercontent.com/XENON1T/pax/...   \n",
       "57            elife_model                                          <OMITTED>   \n",
       "58                     g1                                             0.1426   \n",
       "59                     g2                                            31.2162   \n",
       "60                  lxe_w                                             0.0137   \n",
       "\n",
       "      current           applies_to  \\\n",
       "0   <OMITTED>            (events,)   \n",
       "1   <OMITTED>            (events,)   \n",
       "2   <OMITTED>            (events,)   \n",
       "3   <OMITTED>            (events,)   \n",
       "4         127       (peak_basics,)   \n",
       "..        ...                  ...   \n",
       "56  <OMITTED>   (corrected_areas,)   \n",
       "57  <OMITTED>   (corrected_areas,)   \n",
       "58  <OMITTED>  (energy_estimates,)   \n",
       "59  <OMITTED>  (energy_estimates,)   \n",
       "60  <OMITTED>  (energy_estimates,)   \n",
       "\n",
       "                                                 help  \n",
       "0   Peaks must have more area (PE) than this to ca...  \n",
       "1   Peaks must have FEWER nearby larger or slightl...  \n",
       "2   Extend events this many ns to the left from ea...  \n",
       "3   Extend events this many ns to the right from e...  \n",
       "4                                  Number of top PMTs  \n",
       "..                                                ...  \n",
       "56                          S2 relative LCE(x, y) map  \n",
       "57  electron lifetime modelSpecify as (model_type,...  \n",
       "58                   S1 gain in PE / photons produced  \n",
       "59                 S2 gain in PE / electrons produced  \n",
       "60                    LXe work function in quanta/keV  \n",
       "\n",
       "[61 rows x 5 columns]"
      ]
     },
     "execution_count": 5,
     "metadata": {},
     "output_type": "execute_result"
    }
   ],
   "source": [
    "st.show_config('event_info')"
   ]
  },
  {
   "cell_type": "markdown",
   "metadata": {},
   "source": [
    "#### elife_model for xenon1t is the elife measurements \n",
    "#### elife_mode for xenonnt would be an elife time-dependent model??\n",
    "#### Both have the option to defined an elife value (handy for WFsim)"
   ]
  },
  {
   "cell_type": "code",
   "execution_count": 6,
   "metadata": {},
   "outputs": [
    {
     "data": {
      "text/plain": [
       "474859.6974259963"
      ]
     },
     "execution_count": 6,
     "metadata": {},
     "output_type": "execute_result"
    }
   ],
   "source": [
    "elife_model=('elife_model','v1',True)\n",
    "cmt.get_corrections_config('170204_1710','elife',elife_model)"
   ]
  },
  {
   "cell_type": "code",
   "execution_count": 7,
   "metadata": {},
   "outputs": [
    {
     "data": {
      "text/plain": [
       "700000.0"
      ]
     },
     "execution_count": 7,
     "metadata": {},
     "output_type": "execute_result"
    }
   ],
   "source": [
    "elife_cte=('elife_constant',700000,True)\n",
    "cmt.get_corrections_config('170204_1710','elife',elife_cte)"
   ]
  },
  {
   "cell_type": "code",
   "execution_count": 8,
   "metadata": {},
   "outputs": [],
   "source": [
    "st.set_config(dict(elife_model=('elife_file','v1',True)))"
   ]
  },
  {
   "cell_type": "code",
   "execution_count": 9,
   "metadata": {},
   "outputs": [
    {
     "data": {
      "text/html": [
       "<div>\n",
       "<style scoped>\n",
       "    .dataframe tbody tr th:only-of-type {\n",
       "        vertical-align: middle;\n",
       "    }\n",
       "\n",
       "    .dataframe tbody tr th {\n",
       "        vertical-align: top;\n",
       "    }\n",
       "\n",
       "    .dataframe thead th {\n",
       "        text-align: right;\n",
       "    }\n",
       "</style>\n",
       "<table border=\"1\" class=\"dataframe\">\n",
       "  <thead>\n",
       "    <tr style=\"text-align: right;\">\n",
       "      <th></th>\n",
       "      <th>option</th>\n",
       "      <th>default</th>\n",
       "      <th>current</th>\n",
       "      <th>applies_to</th>\n",
       "      <th>help</th>\n",
       "    </tr>\n",
       "  </thead>\n",
       "  <tbody>\n",
       "    <tr>\n",
       "      <th>0</th>\n",
       "      <td>trigger_min_area</td>\n",
       "      <td>100</td>\n",
       "      <td>&lt;OMITTED&gt;</td>\n",
       "      <td>(events,)</td>\n",
       "      <td>Peaks must have more area (PE) than this to ca...</td>\n",
       "    </tr>\n",
       "    <tr>\n",
       "      <th>1</th>\n",
       "      <td>trigger_max_competing</td>\n",
       "      <td>7</td>\n",
       "      <td>&lt;OMITTED&gt;</td>\n",
       "      <td>(events,)</td>\n",
       "      <td>Peaks must have FEWER nearby larger or slightl...</td>\n",
       "    </tr>\n",
       "    <tr>\n",
       "      <th>2</th>\n",
       "      <td>left_event_extension</td>\n",
       "      <td>1000000</td>\n",
       "      <td>&lt;OMITTED&gt;</td>\n",
       "      <td>(events,)</td>\n",
       "      <td>Extend events this many ns to the left from ea...</td>\n",
       "    </tr>\n",
       "    <tr>\n",
       "      <th>3</th>\n",
       "      <td>right_event_extension</td>\n",
       "      <td>1000000</td>\n",
       "      <td>&lt;OMITTED&gt;</td>\n",
       "      <td>(events,)</td>\n",
       "      <td>Extend events this many ns to the right from e...</td>\n",
       "    </tr>\n",
       "    <tr>\n",
       "      <th>4</th>\n",
       "      <td>n_top_pmts</td>\n",
       "      <td>253</td>\n",
       "      <td>127</td>\n",
       "      <td>(peak_basics,)</td>\n",
       "      <td>Number of top PMTs</td>\n",
       "    </tr>\n",
       "    <tr>\n",
       "      <th>...</th>\n",
       "      <td>...</td>\n",
       "      <td>...</td>\n",
       "      <td>...</td>\n",
       "      <td>...</td>\n",
       "      <td>...</td>\n",
       "    </tr>\n",
       "    <tr>\n",
       "      <th>56</th>\n",
       "      <td>s2_relative_lce_map</td>\n",
       "      <td>https://raw.githubusercontent.com/XENON1T/pax/...</td>\n",
       "      <td>&lt;OMITTED&gt;</td>\n",
       "      <td>(corrected_areas,)</td>\n",
       "      <td>S2 relative LCE(x, y) map</td>\n",
       "    </tr>\n",
       "    <tr>\n",
       "      <th>57</th>\n",
       "      <td>elife_model</td>\n",
       "      <td>&lt;OMITTED&gt;</td>\n",
       "      <td>(elife_file, v1, True)</td>\n",
       "      <td>(corrected_areas,)</td>\n",
       "      <td>electron lifetime modelSpecify as (model_type,...</td>\n",
       "    </tr>\n",
       "    <tr>\n",
       "      <th>58</th>\n",
       "      <td>g1</td>\n",
       "      <td>0.1426</td>\n",
       "      <td>&lt;OMITTED&gt;</td>\n",
       "      <td>(energy_estimates,)</td>\n",
       "      <td>S1 gain in PE / photons produced</td>\n",
       "    </tr>\n",
       "    <tr>\n",
       "      <th>59</th>\n",
       "      <td>g2</td>\n",
       "      <td>31.2162</td>\n",
       "      <td>&lt;OMITTED&gt;</td>\n",
       "      <td>(energy_estimates,)</td>\n",
       "      <td>S2 gain in PE / electrons produced</td>\n",
       "    </tr>\n",
       "    <tr>\n",
       "      <th>60</th>\n",
       "      <td>lxe_w</td>\n",
       "      <td>0.0137</td>\n",
       "      <td>&lt;OMITTED&gt;</td>\n",
       "      <td>(energy_estimates,)</td>\n",
       "      <td>LXe work function in quanta/keV</td>\n",
       "    </tr>\n",
       "  </tbody>\n",
       "</table>\n",
       "<p>61 rows × 5 columns</p>\n",
       "</div>"
      ],
      "text/plain": [
       "                   option                                            default  \\\n",
       "0        trigger_min_area                                                100   \n",
       "1   trigger_max_competing                                                  7   \n",
       "2    left_event_extension                                            1000000   \n",
       "3   right_event_extension                                            1000000   \n",
       "4              n_top_pmts                                                253   \n",
       "..                    ...                                                ...   \n",
       "56    s2_relative_lce_map  https://raw.githubusercontent.com/XENON1T/pax/...   \n",
       "57            elife_model                                          <OMITTED>   \n",
       "58                     g1                                             0.1426   \n",
       "59                     g2                                            31.2162   \n",
       "60                  lxe_w                                             0.0137   \n",
       "\n",
       "                   current           applies_to  \\\n",
       "0                <OMITTED>            (events,)   \n",
       "1                <OMITTED>            (events,)   \n",
       "2                <OMITTED>            (events,)   \n",
       "3                <OMITTED>            (events,)   \n",
       "4                      127       (peak_basics,)   \n",
       "..                     ...                  ...   \n",
       "56               <OMITTED>   (corrected_areas,)   \n",
       "57  (elife_file, v1, True)   (corrected_areas,)   \n",
       "58               <OMITTED>  (energy_estimates,)   \n",
       "59               <OMITTED>  (energy_estimates,)   \n",
       "60               <OMITTED>  (energy_estimates,)   \n",
       "\n",
       "                                                 help  \n",
       "0   Peaks must have more area (PE) than this to ca...  \n",
       "1   Peaks must have FEWER nearby larger or slightl...  \n",
       "2   Extend events this many ns to the left from ea...  \n",
       "3   Extend events this many ns to the right from e...  \n",
       "4                                  Number of top PMTs  \n",
       "..                                                ...  \n",
       "56                          S2 relative LCE(x, y) map  \n",
       "57  electron lifetime modelSpecify as (model_type,...  \n",
       "58                   S1 gain in PE / photons produced  \n",
       "59                 S2 gain in PE / electrons produced  \n",
       "60                    LXe work function in quanta/keV  \n",
       "\n",
       "[61 rows x 5 columns]"
      ]
     },
     "execution_count": 9,
     "metadata": {},
     "output_type": "execute_result"
    }
   ],
   "source": [
    "st.show_config('event_info')"
   ]
  },
  {
   "cell_type": "markdown",
   "metadata": {},
   "source": [
    "#### get_corrections_config() is what the plugins are going to use"
   ]
  },
  {
   "cell_type": "code",
   "execution_count": 26,
   "metadata": {},
   "outputs": [
    {
     "data": {
      "text/plain": [
       "array([0.00701488, 0.        , 0.        , 0.00810555, 0.00438278,\n",
       "       0.00788193, 0.00358062, 0.00751123, 0.00743156, 0.00483184,\n",
       "       0.00707198, 0.00565601, 0.        , 0.00555947, 0.00795876,\n",
       "       0.00703689, 0.00640406, 0.00808116, 0.00714394, 0.00743571,\n",
       "       0.00715155, 0.00763603, 0.00396764, 0.00726161, 0.00540837,\n",
       "       0.00739988, 0.        , 0.        , 0.00715987, 0.00727335,\n",
       "       0.00422554, 0.00762081, 0.00413517, 0.00704631, 0.        ,\n",
       "       0.00536619, 0.00742343, 0.00703481, 0.00454276, 0.00518346,\n",
       "       0.00701137, 0.0054324 , 0.00459376, 0.00733841, 0.0061342 ,\n",
       "       0.00651856, 0.00758981, 0.00475848, 0.00747862, 0.00757543,\n",
       "       0.00458526, 0.00460747, 0.007139  , 0.00801151, 0.00470327,\n",
       "       0.008673  , 0.00374404, 0.00497367, 0.01036212, 0.00754385,\n",
       "       0.00602822, 0.00839661, 0.        , 0.00449683, 0.00483235,\n",
       "       0.        , 0.00766863, 0.00722537, 0.00356084, 0.00565691,\n",
       "       0.00455742, 0.00788018, 0.00774203, 0.        , 0.00357772,\n",
       "       0.00368471, 0.00587437, 0.00513111, 0.00932406, 0.        ,\n",
       "       0.00508439, 0.00409454, 0.00386858, 0.00816855, 0.00673827,\n",
       "       0.00808598, 0.        , 0.00693313, 0.        , 0.00651581,\n",
       "       0.00741692, 0.        , 0.00491794, 0.00744341, 0.00582707,\n",
       "       0.00406165, 0.00386735, 0.00577526, 0.00814256, 0.00763733,\n",
       "       0.00761534, 0.00554928, 0.        , 0.00713379, 0.0050307 ,\n",
       "       0.00458041, 0.0044422 , 0.00744978, 0.00357163, 0.00759331,\n",
       "       0.00716472, 0.00725001, 0.00768219, 0.00604085, 0.00586753,\n",
       "       0.00964956, 0.0046812 , 0.00784508, 0.        , 0.0077048 ,\n",
       "       0.00699427, 0.00362293, 0.00750835, 0.00744935, 0.00771107,\n",
       "       0.00770084, 0.00348415, 0.00362088, 0.00745191, 0.00638144,\n",
       "       0.        , 0.00512008, 0.00372603, 0.00522835, 0.        ,\n",
       "       0.        , 0.00443728, 0.        , 0.00388117, 0.        ,\n",
       "       0.00359568, 0.0053488 , 0.00780469, 0.00510084, 0.00645856,\n",
       "       0.00508137, 0.00428076, 0.00350401, 0.        , 0.00728004,\n",
       "       0.        , 0.00425555, 0.        , 0.0047207 , 0.00626695,\n",
       "       0.0072852 , 0.00535683, 0.00754917, 0.00385517, 0.0041667 ,\n",
       "       0.00750039, 0.00731128, 0.        , 0.00777848, 0.0075859 ,\n",
       "       0.00666922, 0.00730749, 0.        , 0.00759461, 0.00380563,\n",
       "       0.00358876, 0.00521189, 0.00428848, 0.00735498, 0.00776976,\n",
       "       0.00399636, 0.00622929, 0.00585964, 0.        , 0.007353  ,\n",
       "       0.00358127, 0.0035781 , 0.00526422, 0.        , 0.00768707,\n",
       "       0.00405442, 0.00430298, 0.00421603, 0.00760722, 0.00762216,\n",
       "       0.        , 0.00641507, 0.00486023, 0.00372671, 0.00510187,\n",
       "       0.00760774, 0.00764935, 0.00770676, 0.        , 0.00525353,\n",
       "       0.00802482, 0.00510837, 0.00791713, 0.        , 0.00440206,\n",
       "       0.00897228, 0.        , 0.00451774, 0.00704319, 0.00867109,\n",
       "       0.00512666, 0.00445073, 0.00404115, 0.        , 0.        ,\n",
       "       0.00354624, 0.0041764 , 0.00874286, 0.00365772, 0.00367787,\n",
       "       0.00727222, 0.00358499, 0.00503621, 0.00359976, 0.00540654,\n",
       "       0.00721824, 0.00373856, 0.00621565, 0.00647665, 0.00369529,\n",
       "       0.00770072, 0.00457794, 0.0074619 , 0.00674824, 0.        ,\n",
       "       0.00366175, 0.00749074, 0.00755763, 0.00365295, 0.        ,\n",
       "       0.00733858, 0.00405855, 0.00375409, 0.00399942, 0.        ,\n",
       "       0.00429023, 0.00495273, 0.0037874 ], dtype=float32)"
      ]
     },
     "execution_count": 26,
     "metadata": {},
     "output_type": "execute_result"
    }
   ],
   "source": [
    "gain_model=('to_pe_model','v1',True)\n",
    "cmt.get_corrections_config('170204_1710','pmt_gains',gain_model)"
   ]
  },
  {
   "cell_type": "markdown",
   "metadata": {},
   "source": [
    "#### Test on mini_analysis implementation "
   ]
  },
  {
   "cell_type": "code",
   "execution_count": 20,
   "metadata": {},
   "outputs": [],
   "source": [
    "st = straxen.contexts.xenon1t_dali(build_lowlevel=False)"
   ]
  },
  {
   "cell_type": "code",
   "execution_count": 21,
   "metadata": {},
   "outputs": [],
   "source": [
    "st.set_config(dict(gain_model=('to_pe_model','v1',True)))"
   ]
  },
  {
   "cell_type": "code",
   "execution_count": 22,
   "metadata": {},
   "outputs": [
    {
     "data": {
      "application/vnd.jupyter.widget-view+json": {
       "model_id": "61a99cffc07f45888cafcc2a10a8ec8d",
       "version_major": 2,
       "version_minor": 0
      },
      "text/plain": [
       "HBox(children=(FloatProgress(value=0.0, max=1.0), HTML(value='')))"
      ]
     },
     "metadata": {},
     "output_type": "display_data"
    },
    {
     "name": "stdout",
     "output_type": "stream",
     "text": [
      "\n"
     ]
    },
    {
     "data": {
      "application/vnd.jupyter.widget-view+json": {
       "model_id": "0095876246244145ba710cfe8ccdc9c5",
       "version_major": 2,
       "version_minor": 0
      },
      "text/plain": [
       "HBox(children=(FloatProgress(value=0.0, max=1.0), HTML(value='')))"
      ]
     },
     "metadata": {},
     "output_type": "display_data"
    },
    {
     "name": "stdout",
     "output_type": "stream",
     "text": [
      "\n"
     ]
    },
    {
     "name": "stderr",
     "output_type": "stream",
     "text": [
      "/home/ahiguera-mx/.conda/envs/corrections/lib/python3.6/site-packages/straxen/analyses/waveform_plot.py:120: MatplotlibDeprecationWarning: Passing parameters norm and vmin/vmax simultaneously is deprecated since 3.3 and will become an error two minor releases later. Please pass vmin/vmax directly to the norm when creating it.\n",
      "  cmap=plt.cm.inferno)\n"
     ]
    },
    {
     "data": {
      "image/png": "[encoded data removed]",
      "text/plain": [
       "<Figure size 720x432 with 4 Axes>"
      ]
     },
     "metadata": {
      "needs_background": "light"
     },
     "output_type": "display_data"
    }
   ],
   "source": [
    "st.plot_waveform('170206_0116', seconds_range=(1.45994,1.46),deep=True)"
   ]
  },
  {
   "cell_type": "code",
   "execution_count": null,
   "metadata": {},
   "outputs": [],
   "source": []
  }
 ],
 "metadata": {
  "kernelspec": {
   "display_name": "corrections",
   "language": "python",
   "name": "corrections"
  },
  "language_info": {
   "codemirror_mode": {
    "name": "ipython",
    "version": 3
   },
   "file_extension": ".py",
   "mimetype": "text/x-python",
   "name": "python",
   "nbconvert_exporter": "python",
   "pygments_lexer": "ipython3",
   "version": "3.6.10"
  }
 },
 "nbformat": 4,
 "nbformat_minor": 4
}
