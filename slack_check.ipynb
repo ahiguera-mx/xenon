{
 "cells": [
  {
   "cell_type": "code",
   "execution_count": null,
   "id": "501a32ba-5ca2-4405-b1cf-46172437c819",
   "metadata": {},
   "outputs": [],
   "source": [
    "import pandas as pd\n",
    "from utilix.rundb import xent_collection"
   ]
  },
  {
   "cell_type": "code",
   "execution_count": null,
   "id": "e5cc26b6-1bf2-4b2f-939d-6fdb15705bbf",
   "metadata": {},
   "outputs": [],
   "source": [
    "db_users = xent_collection('users')"
   ]
  },
  {
   "cell_type": "code",
   "execution_count": null,
   "id": "20be43c5-a12e-4842-a574-20351db6e7dd",
   "metadata": {},
   "outputs": [],
   "source": [
    "db_users.find_one({'first_name':'Marc'})"
   ]
  },
  {
   "cell_type": "code",
   "execution_count": null,
   "id": "8b822855-6eff-4ffc-b93d-0f79e21cb949",
   "metadata": {},
   "outputs": [],
   "source": [
    "# Get the latest data from slack\n",
    "slack = pd.read_csv('slack-xenonnt-members_2023_07_12.csv')  "
   ]
  },
  {
   "cell_type": "code",
   "execution_count": null,
   "id": "92304164-e0f1-46fc-a772-1d4cc980c8a5",
   "metadata": {},
   "outputs": [],
   "source": [
    "# Check status\n",
    "members = slack[slack['status'] =='Member']"
   ]
  },
  {
   "cell_type": "code",
   "execution_count": null,
   "id": "2c1620c5-f9cd-4214-bf28-3bbac5b21221",
   "metadata": {},
   "outputs": [],
   "source": [
    "# look at their emails and compare with users db\n",
    "m_emails = members['email'].to_list()"
   ]
  },
  {
   "cell_type": "code",
   "execution_count": null,
   "id": "e2a201cd-54f3-4b3d-a625-75d10ec7b6db",
   "metadata": {},
   "outputs": [],
   "source": [
    "intruders = []\n",
    "for email in m_emails:\n",
    "    if not db_users.find_one({'email': str(email)}):\n",
    "        print(f'This {email} is not in users db')\n",
    "        intruders.append(email)"
   ]
  },
  {
   "cell_type": "code",
   "execution_count": null,
   "id": "5b7f56c7-a766-4ff8-9e48-826b8708df68",
   "metadata": {},
   "outputs": [],
   "source": [
    "remove_from_slack = members[members['email'].isin(intruders)]"
   ]
  },
  {
   "cell_type": "code",
   "execution_count": null,
   "id": "9317735f-9987-421f-b77b-83ae51bea0f3",
   "metadata": {},
   "outputs": [],
   "source": [
    "remove_from_slack"
   ]
  },
  {
   "cell_type": "code",
   "execution_count": null,
   "id": "173d1ccc-4ca7-4711-8d76-b1103c714279",
   "metadata": {},
   "outputs": [],
   "source": []
  }
 ],
 "metadata": {
  "kernelspec": {
   "display_name": "Python [conda env:xenonnt_development]",
   "language": "python",
   "name": "conda-env-xenonnt_development-py"
  },
  "language_info": {
   "codemirror_mode": {
    "name": "ipython",
    "version": 3
   },
   "file_extension": ".py",
   "mimetype": "text/x-python",
   "name": "python",
   "nbconvert_exporter": "python",
   "pygments_lexer": "ipython3",
   "version": "3.8.16"
  }
 },
 "nbformat": 4,
 "nbformat_minor": 5
}
